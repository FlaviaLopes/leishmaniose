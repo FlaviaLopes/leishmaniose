{
 "cells": [
  {
   "cell_type": "markdown",
   "metadata": {},
   "source": [
    "# .dbc para .csv\n",
    "## Usando o pacote `read.dbc` do `R`"
   ]
  },
  {
   "cell_type": "markdown",
   "metadata": {},
   "source": [
    "install.packages('read.dbc')"
   ]
  },
  {
   "cell_type": "code",
   "execution_count": 1,
   "metadata": {},
   "outputs": [],
   "source": [
    "library(read.dbc)"
   ]
  },
  {
   "cell_type": "code",
   "execution_count": 2,
   "metadata": {},
   "outputs": [],
   "source": [
    "input_path_leivis = '../data/raw/leivis'\n",
    "output_path_leivis = '../data/interim/leivis'\n",
    "\n",
    "input_path_leiteg = '../data/raw/leiteg'\n",
    "output_path_leiteg = '../data/interim/leiteg'"
   ]
  },
  {
   "cell_type": "code",
   "execution_count": 3,
   "metadata": {},
   "outputs": [],
   "source": [
    "files = list.files(input_path_leivis)\n",
    "for (i in 1:length(files)){\n",
    "    df <- read.dbc(paste(input_path_leivis, '/', files[i], sep=''))\n",
    "    write.csv(df, paste(output_path_leivis, '/', unlist(strsplit(files[i], '\\\\.'))[1], '.csv', sep=''))\n",
    "}"
   ]
  },
  {
   "cell_type": "code",
   "execution_count": 4,
   "metadata": {},
   "outputs": [],
   "source": [
    "files = list.files(input_path_leiteg)\n",
    "for (i in 1:length(files)){\n",
    "    df <- read.dbc(paste(input_path_leiteg, '/', files[i], sep=''))\n",
    "    write.csv(df, paste(output_path_leiteg, '/', unlist(strsplit(files[i], '\\\\.'))[1], '.csv', sep=''))\n",
    "}"
   ]
  },
  {
   "cell_type": "markdown",
   "metadata": {},
   "source": [
    "### Referências\n",
    "\n",
    "- [READ.DBC - UM PACOTE PARA IMPORTAÇÃO DE DADOS DO\n",
    "DATASUS NA LINGUAGEM R](https://docs.bvsalud.org/biblioref/2018/07/906543/anais_cbis_2016_artigos_completos-601-606.pdf)"
   ]
  }
 ],
 "metadata": {
  "kernelspec": {
   "display_name": "R",
   "language": "R",
   "name": "ir"
  },
  "language_info": {
   "codemirror_mode": "r",
   "file_extension": ".r",
   "mimetype": "text/x-r-source",
   "name": "R",
   "pygments_lexer": "r",
   "version": "3.4.4"
  }
 },
 "nbformat": 4,
 "nbformat_minor": 4
}
