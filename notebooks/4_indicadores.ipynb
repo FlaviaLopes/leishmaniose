{
 "cells": [
  {
   "cell_type": "code",
   "execution_count": 1,
   "metadata": {},
   "outputs": [],
   "source": [
    "import pandas as pd\n",
    "import numpy as np"
   ]
  },
  {
   "cell_type": "markdown",
   "metadata": {},
   "source": [
    "# Calcular Principais Indicadores - LV\n",
    "\n",
    "- Carregar dados estimativa populacional e de casos confirmados\n",
    "\n"
   ]
  },
  {
   "cell_type": "markdown",
   "metadata": {},
   "source": [
    "## Casos Confirmados\n",
    "\n",
    "O Power BI consegue criar mapas tendo os nomes (município, estado, país), então não será necessário o código IBGE correto, 7 dígitos, ou dados de geolocalização."
   ]
  },
  {
   "cell_type": "code",
   "execution_count": 2,
   "metadata": {},
   "outputs": [],
   "source": [
    "confirmados = pd.read_csv('../data/interim/leivis/casos_confirmados_full_limpos.csv', low_memory=False)"
   ]
  },
  {
   "cell_type": "markdown",
   "metadata": {},
   "source": [
    "## População Estimada por Município/Ano\n",
    "- A partir de 2017 os códigos passaram a ter 7 dígitos. Um município com 6 passou a ter 7 e está sendo considerado um novo. Corrigir. Basta retirar o último dígito, verificador.\n",
    "\n",
    "- Alguns municípios, 6 deles, não tem estimativa populacional entre 2007 e 2011. Provavelmente por não terem tido senso nestes anos, recém criados. "
   ]
  },
  {
   "cell_type": "code",
   "execution_count": 3,
   "metadata": {
    "scrolled": true
   },
   "outputs": [],
   "source": [
    "populacao = pd.read_csv('../data/interim/populacao/output_full.csv')\n",
    "populacao.MUNIC_RES = populacao.MUNIC_RES.apply(lambda x: int(str(x)[:6]))"
   ]
  },
  {
   "cell_type": "code",
   "execution_count": 4,
   "metadata": {},
   "outputs": [],
   "source": [
    "populacao = pd.pivot_table(populacao, values='POPULACAO', index='MUNIC_RES', columns='ANO')"
   ]
  },
  {
   "cell_type": "code",
   "execution_count": 5,
   "metadata": {},
   "outputs": [
    {
     "data": {
      "text/html": [
       "<div>\n",
       "<style scoped>\n",
       "    .dataframe tbody tr th:only-of-type {\n",
       "        vertical-align: middle;\n",
       "    }\n",
       "\n",
       "    .dataframe tbody tr th {\n",
       "        vertical-align: top;\n",
       "    }\n",
       "\n",
       "    .dataframe thead th {\n",
       "        text-align: right;\n",
       "    }\n",
       "</style>\n",
       "<table border=\"1\" class=\"dataframe\">\n",
       "  <thead>\n",
       "    <tr style=\"text-align: right;\">\n",
       "      <th>ANO</th>\n",
       "      <th>2007</th>\n",
       "      <th>2008</th>\n",
       "      <th>2009</th>\n",
       "      <th>2010</th>\n",
       "      <th>2011</th>\n",
       "      <th>2012</th>\n",
       "      <th>2013</th>\n",
       "      <th>2014</th>\n",
       "      <th>2015</th>\n",
       "      <th>2016</th>\n",
       "      <th>2017</th>\n",
       "      <th>2018</th>\n",
       "      <th>2019</th>\n",
       "    </tr>\n",
       "    <tr>\n",
       "      <th>MUNIC_RES</th>\n",
       "      <th></th>\n",
       "      <th></th>\n",
       "      <th></th>\n",
       "      <th></th>\n",
       "      <th></th>\n",
       "      <th></th>\n",
       "      <th></th>\n",
       "      <th></th>\n",
       "      <th></th>\n",
       "      <th></th>\n",
       "      <th></th>\n",
       "      <th></th>\n",
       "      <th></th>\n",
       "    </tr>\n",
       "  </thead>\n",
       "  <tbody>\n",
       "    <tr>\n",
       "      <th>150475</th>\n",
       "      <td>NaN</td>\n",
       "      <td>NaN</td>\n",
       "      <td>NaN</td>\n",
       "      <td>NaN</td>\n",
       "      <td>NaN</td>\n",
       "      <td>15018.0</td>\n",
       "      <td>15232.0</td>\n",
       "      <td>15341.0</td>\n",
       "      <td>15446.0</td>\n",
       "      <td>15548.0</td>\n",
       "      <td>15646.0</td>\n",
       "      <td>15982.0</td>\n",
       "      <td>16084.0</td>\n",
       "    </tr>\n",
       "    <tr>\n",
       "      <th>220672</th>\n",
       "      <td>NaN</td>\n",
       "      <td>8501.0</td>\n",
       "      <td>7895.0</td>\n",
       "      <td>8039.0</td>\n",
       "      <td>8149.0</td>\n",
       "      <td>8227.0</td>\n",
       "      <td>8289.0</td>\n",
       "      <td>8330.0</td>\n",
       "      <td>8366.0</td>\n",
       "      <td>8398.0</td>\n",
       "      <td>8425.0</td>\n",
       "      <td>8536.0</td>\n",
       "      <td>8570.0</td>\n",
       "    </tr>\n",
       "    <tr>\n",
       "      <th>421265</th>\n",
       "      <td>NaN</td>\n",
       "      <td>NaN</td>\n",
       "      <td>NaN</td>\n",
       "      <td>NaN</td>\n",
       "      <td>NaN</td>\n",
       "      <td>9416.0</td>\n",
       "      <td>9687.0</td>\n",
       "      <td>9761.0</td>\n",
       "      <td>9835.0</td>\n",
       "      <td>9908.0</td>\n",
       "      <td>9980.0</td>\n",
       "      <td>10022.0</td>\n",
       "      <td>10091.0</td>\n",
       "    </tr>\n",
       "    <tr>\n",
       "      <th>422000</th>\n",
       "      <td>NaN</td>\n",
       "      <td>NaN</td>\n",
       "      <td>NaN</td>\n",
       "      <td>NaN</td>\n",
       "      <td>NaN</td>\n",
       "      <td>11136.0</td>\n",
       "      <td>11628.0</td>\n",
       "      <td>11824.0</td>\n",
       "      <td>12018.0</td>\n",
       "      <td>12212.0</td>\n",
       "      <td>12403.0</td>\n",
       "      <td>12570.0</td>\n",
       "      <td>12760.0</td>\n",
       "    </tr>\n",
       "    <tr>\n",
       "      <th>431454</th>\n",
       "      <td>NaN</td>\n",
       "      <td>NaN</td>\n",
       "      <td>NaN</td>\n",
       "      <td>NaN</td>\n",
       "      <td>NaN</td>\n",
       "      <td>2578.0</td>\n",
       "      <td>2681.0</td>\n",
       "      <td>2800.0</td>\n",
       "      <td>2824.0</td>\n",
       "      <td>2847.0</td>\n",
       "      <td>2868.0</td>\n",
       "      <td>2968.0</td>\n",
       "      <td>3003.0</td>\n",
       "    </tr>\n",
       "    <tr>\n",
       "      <th>500627</th>\n",
       "      <td>NaN</td>\n",
       "      <td>NaN</td>\n",
       "      <td>NaN</td>\n",
       "      <td>NaN</td>\n",
       "      <td>NaN</td>\n",
       "      <td>4723.0</td>\n",
       "      <td>4942.0</td>\n",
       "      <td>5047.0</td>\n",
       "      <td>5150.0</td>\n",
       "      <td>5251.0</td>\n",
       "      <td>5350.0</td>\n",
       "      <td>5455.0</td>\n",
       "      <td>5555.0</td>\n",
       "    </tr>\n",
       "  </tbody>\n",
       "</table>\n",
       "</div>"
      ],
      "text/plain": [
       "ANO        2007    2008    2009    2010    2011     2012     2013     2014  \\\n",
       "MUNIC_RES                                                                    \n",
       "150475      NaN     NaN     NaN     NaN     NaN  15018.0  15232.0  15341.0   \n",
       "220672      NaN  8501.0  7895.0  8039.0  8149.0   8227.0   8289.0   8330.0   \n",
       "421265      NaN     NaN     NaN     NaN     NaN   9416.0   9687.0   9761.0   \n",
       "422000      NaN     NaN     NaN     NaN     NaN  11136.0  11628.0  11824.0   \n",
       "431454      NaN     NaN     NaN     NaN     NaN   2578.0   2681.0   2800.0   \n",
       "500627      NaN     NaN     NaN     NaN     NaN   4723.0   4942.0   5047.0   \n",
       "\n",
       "ANO           2015     2016     2017     2018     2019  \n",
       "MUNIC_RES                                               \n",
       "150475     15446.0  15548.0  15646.0  15982.0  16084.0  \n",
       "220672      8366.0   8398.0   8425.0   8536.0   8570.0  \n",
       "421265      9835.0   9908.0   9980.0  10022.0  10091.0  \n",
       "422000     12018.0  12212.0  12403.0  12570.0  12760.0  \n",
       "431454      2824.0   2847.0   2868.0   2968.0   3003.0  \n",
       "500627      5150.0   5251.0   5350.0   5455.0   5555.0  "
      ]
     },
     "execution_count": 5,
     "metadata": {},
     "output_type": "execute_result"
    }
   ],
   "source": [
    "# verificando municípios que possuem algum ano sem estimativa, totalizando 6\n",
    "populacao.loc[populacao.isnull().sum(axis=1) > 0,:]"
   ]
  },
  {
   "cell_type": "code",
   "execution_count": 6,
   "metadata": {},
   "outputs": [],
   "source": [
    "populacao.reset_index().to_csv('../data/processed/populacao.csv', index=False)"
   ]
  },
  {
   "cell_type": "markdown",
   "metadata": {},
   "source": [
    "## Informações sobre Municípios"
   ]
  },
  {
   "cell_type": "code",
   "execution_count": 7,
   "metadata": {},
   "outputs": [
    {
     "data": {
      "text/html": [
       "<div>\n",
       "<style scoped>\n",
       "    .dataframe tbody tr th:only-of-type {\n",
       "        vertical-align: middle;\n",
       "    }\n",
       "\n",
       "    .dataframe tbody tr th {\n",
       "        vertical-align: top;\n",
       "    }\n",
       "\n",
       "    .dataframe thead th {\n",
       "        text-align: right;\n",
       "    }\n",
       "</style>\n",
       "<table border=\"1\" class=\"dataframe\">\n",
       "  <thead>\n",
       "    <tr style=\"text-align: right;\">\n",
       "      <th></th>\n",
       "      <th>ibge_code</th>\n",
       "      <th>municipio</th>\n",
       "      <th>estado</th>\n",
       "      <th>mesorregiao</th>\n",
       "      <th>microrregiao</th>\n",
       "    </tr>\n",
       "  </thead>\n",
       "  <tbody>\n",
       "    <tr>\n",
       "      <th>0</th>\n",
       "      <td>110001</td>\n",
       "      <td>Alta Floresta D'Oeste</td>\n",
       "      <td>Rondônia</td>\n",
       "      <td>Leste Rondoniense</td>\n",
       "      <td>Cacoal</td>\n",
       "    </tr>\n",
       "    <tr>\n",
       "      <th>1</th>\n",
       "      <td>110037</td>\n",
       "      <td>Alto Alegre dos Parecis</td>\n",
       "      <td>Rondônia</td>\n",
       "      <td>Leste Rondoniense</td>\n",
       "      <td>Cacoal</td>\n",
       "    </tr>\n",
       "    <tr>\n",
       "      <th>2</th>\n",
       "      <td>110040</td>\n",
       "      <td>Alto Paraíso</td>\n",
       "      <td>Rondônia</td>\n",
       "      <td>Leste Rondoniense</td>\n",
       "      <td>Ariquemes</td>\n",
       "    </tr>\n",
       "    <tr>\n",
       "      <th>3</th>\n",
       "      <td>110034</td>\n",
       "      <td>Alvorada D'Oeste</td>\n",
       "      <td>Rondônia</td>\n",
       "      <td>Leste Rondoniense</td>\n",
       "      <td>Alvorada D'Oeste</td>\n",
       "    </tr>\n",
       "    <tr>\n",
       "      <th>4</th>\n",
       "      <td>110002</td>\n",
       "      <td>Ariquemes</td>\n",
       "      <td>Rondônia</td>\n",
       "      <td>Leste Rondoniense</td>\n",
       "      <td>Ariquemes</td>\n",
       "    </tr>\n",
       "    <tr>\n",
       "      <th>...</th>\n",
       "      <td>...</td>\n",
       "      <td>...</td>\n",
       "      <td>...</td>\n",
       "      <td>...</td>\n",
       "      <td>...</td>\n",
       "    </tr>\n",
       "    <tr>\n",
       "      <th>5565</th>\n",
       "      <td>522200</td>\n",
       "      <td>Vianópolis</td>\n",
       "      <td>Goiás</td>\n",
       "      <td>Sul Goiano</td>\n",
       "      <td>Pires do Rio</td>\n",
       "    </tr>\n",
       "    <tr>\n",
       "      <th>5566</th>\n",
       "      <td>522205</td>\n",
       "      <td>Vicentinópolis</td>\n",
       "      <td>Goiás</td>\n",
       "      <td>Sul Goiano</td>\n",
       "      <td>Meia Ponte</td>\n",
       "    </tr>\n",
       "    <tr>\n",
       "      <th>5567</th>\n",
       "      <td>522220</td>\n",
       "      <td>Vila Boa</td>\n",
       "      <td>Goiás</td>\n",
       "      <td>Leste Goiano</td>\n",
       "      <td>Entorno de Brasília</td>\n",
       "    </tr>\n",
       "    <tr>\n",
       "      <th>5568</th>\n",
       "      <td>522230</td>\n",
       "      <td>Vila Propício</td>\n",
       "      <td>Goiás</td>\n",
       "      <td>Leste Goiano</td>\n",
       "      <td>Entorno de Brasília</td>\n",
       "    </tr>\n",
       "    <tr>\n",
       "      <th>5569</th>\n",
       "      <td>530010</td>\n",
       "      <td>Brasília</td>\n",
       "      <td>Distrito Federal</td>\n",
       "      <td>Distrito Federal</td>\n",
       "      <td>Brasília</td>\n",
       "    </tr>\n",
       "  </tbody>\n",
       "</table>\n",
       "<p>5570 rows × 5 columns</p>\n",
       "</div>"
      ],
      "text/plain": [
       "     ibge_code                municipio            estado        mesorregiao  \\\n",
       "0       110001    Alta Floresta D'Oeste          Rondônia  Leste Rondoniense   \n",
       "1       110037  Alto Alegre dos Parecis          Rondônia  Leste Rondoniense   \n",
       "2       110040             Alto Paraíso          Rondônia  Leste Rondoniense   \n",
       "3       110034         Alvorada D'Oeste          Rondônia  Leste Rondoniense   \n",
       "4       110002                Ariquemes          Rondônia  Leste Rondoniense   \n",
       "...        ...                      ...               ...                ...   \n",
       "5565    522200               Vianópolis             Goiás         Sul Goiano   \n",
       "5566    522205           Vicentinópolis             Goiás         Sul Goiano   \n",
       "5567    522220                 Vila Boa             Goiás       Leste Goiano   \n",
       "5568    522230            Vila Propício             Goiás       Leste Goiano   \n",
       "5569    530010                 Brasília  Distrito Federal   Distrito Federal   \n",
       "\n",
       "             microrregiao  \n",
       "0                  Cacoal  \n",
       "1                  Cacoal  \n",
       "2               Ariquemes  \n",
       "3        Alvorada D'Oeste  \n",
       "4               Ariquemes  \n",
       "...                   ...  \n",
       "5565         Pires do Rio  \n",
       "5566           Meia Ponte  \n",
       "5567  Entorno de Brasília  \n",
       "5568  Entorno de Brasília  \n",
       "5569             Brasília  \n",
       "\n",
       "[5570 rows x 5 columns]"
      ]
     },
     "execution_count": 7,
     "metadata": {},
     "output_type": "execute_result"
    }
   ],
   "source": [
    "municipios = pd.read_excel('../data/raw/IBGE_BRASIL_MUNICIPIO.xls')\n",
    "municipios = municipios.loc[:, ['Código Município Completo','Nome_Município', 'Nome_UF', 'Nome_Mesorregião', 'Nome_Microrregião']]\n",
    "municipios.columns = ['ibge_code', 'municipio','estado','mesorregiao','microrregiao']\n",
    "\n",
    "municipios.ibge_code = municipios.ibge_code.apply(lambda x: str(x)[:6])\n",
    "municipios"
   ]
  },
  {
   "cell_type": "code",
   "execution_count": 8,
   "metadata": {},
   "outputs": [],
   "source": [
    "municipios.to_csv('../data/processed/municipios.csv', index=False, encoding='utf-8')\n",
    "municipios.ibge_code = municipios.ibge_code.astype('string')"
   ]
  },
  {
   "cell_type": "markdown",
   "metadata": {},
   "source": [
    "## Indicadores\n",
    "\n",
    "- O cálculo dos indicadores é feito de acordo com as instruções do `CADERNO DE INDICADORES DE LEISHMANIOSE TEGUMENTAR E LEISHMANIOSE VISCERAL`, 2018, MINISTÉRIO DA SAÚDE, Secretaria de Vigilância em Saúde, presente no diretório de Referências."
   ]
  },
  {
   "cell_type": "code",
   "execution_count": 9,
   "metadata": {},
   "outputs": [],
   "source": [
    "import sys\n",
    "sys.path.append('../')\n",
    "\n",
    "import src.indicadores as indicadores"
   ]
  },
  {
   "cell_type": "code",
   "execution_count": 10,
   "metadata": {},
   "outputs": [],
   "source": [
    "output = '../data/indicadores/visceral/{}'"
   ]
  },
  {
   "cell_type": "code",
   "execution_count": 11,
   "metadata": {},
   "outputs": [
    {
     "name": "stdout",
     "output_type": "stream",
     "text": [
      "Help on function total_casos_novos_municipio_infeccao_ano_14 in module src.indicadores:\n",
      "\n",
      "total_casos_novos_municipio_infeccao_ano_14(df)\n",
      "    | Importância do indicador: Conhecer a ocorrência de casos de LV, a distribuição espacial e temporal e\n",
      "    | a tendência;\n",
      "    |\n",
      "    |Método de cálculo: Número total de casos novos de LV por local provável de infecção (UF, município, região administrativa ou localidade) no ano de notificação\n",
      "    | input:\n",
      "    | - df (dataframe com dados históricos)\n",
      "    | - local (UF, município, região administrativa ou localidade)\n",
      "    | - ano (2007 a 2019)\n",
      "    | output:\n",
      "    | - dataframe com Número total de casos novos de LV por local provável de infecção.\n",
      "\n"
     ]
    }
   ],
   "source": [
    "help(indicadores.total_casos_novos_municipio_infeccao_ano_14)"
   ]
  },
  {
   "cell_type": "markdown",
   "metadata": {},
   "source": [
    "### A partir daqui serão calculados 12 indicadores de LV"
   ]
  },
  {
   "cell_type": "code",
   "execution_count": 12,
   "metadata": {
    "scrolled": true
   },
   "outputs": [],
   "source": [
    "indicadores.total_casos_novos_municipio_infeccao_ano_14(\n",
    "    confirmados\n",
    ").reset_index().rename(\n",
    "    columns={'index': 'CO_MN_INF'}\n",
    ").fillna(0).to_csv(output.format('indicador_14_total_casos_novos_municipio_infeccao.csv'), index=False)"
   ]
  },
  {
   "cell_type": "code",
   "execution_count": 13,
   "metadata": {
    "scrolled": true
   },
   "outputs": [],
   "source": [
    "indicadores.taxa_geral_incidencia_municipio_infeccao_ano_15(\n",
    "    confirmados, populacao\n",
    ").reset_index().rename(\n",
    "    columns={'index': 'CO_MN_INF'}\n",
    ").fillna(0).to_csv(output.format('indicador_15_taxa_incidencia_municipio_infeccao.csv'), index=False)"
   ]
  },
  {
   "cell_type": "code",
   "execution_count": 14,
   "metadata": {},
   "outputs": [],
   "source": [
    "indicadores.proporcao_casos_confirmados_criterio_laboratorial_16(\n",
    "    confirmados\n",
    ").reset_index().rename(\n",
    "    columns={'index': 'CO_MN_RESI'}\n",
    ").fillna(0).to_csv(\n",
    "    output.format('indicador_16_proporcao_casos_criterio_laboratorial_municipio_residencia.csv'), \n",
    "    index=False\n",
    ")"
   ]
  },
  {
   "cell_type": "code",
   "execution_count": 15,
   "metadata": {},
   "outputs": [],
   "source": [
    "indicadores.proporcao_casos_menor_5_anos_17(\n",
    "    confirmados\n",
    ").reset_index().rename(\n",
    "    columns={'index': 'CO_MN_INF'}\n",
    ").fillna(0).to_csv(\n",
    "    output.format('indicador_17_proporcao_casos_menor_5_anos_municipio_infeccao.csv'), \n",
    "    index=False\n",
    ")"
   ]
  },
  {
   "cell_type": "code",
   "execution_count": 16,
   "metadata": {},
   "outputs": [],
   "source": [
    "indicadores.proporcao_casos_50_anos_mais_18(\n",
    "    confirmados\n",
    ").reset_index().rename(\n",
    "    columns={'index': 'CO_MN_INF'}\n",
    ").fillna(0).to_csv(\n",
    "    output.format('indicador_18_proporcao_casos_50_anos_mais_municipio_infeccao.csv'), \n",
    "    index=False\n",
    ")"
   ]
  },
  {
   "cell_type": "code",
   "execution_count": 17,
   "metadata": {},
   "outputs": [],
   "source": [
    "indicadores.proporcao_casos_hiv_19(\n",
    "    confirmados\n",
    ").reset_index().rename(\n",
    "    columns={'index': 'CO_MN_INF'}\n",
    ").fillna(0).to_csv(\n",
    "    output.format('indicador_19_proporcao_casos_hiv_municipio_infeccao.csv'), \n",
    "    index=False\n",
    ")"
   ]
  },
  {
   "cell_type": "code",
   "execution_count": 18,
   "metadata": {},
   "outputs": [],
   "source": [
    "indicadores.proporcao_casos_cura_clinica_20(\n",
    "    confirmados\n",
    ").reset_index().rename(\n",
    "    columns={'index': 'CO_MN_RESI'}\n",
    ").fillna(0).to_csv(\n",
    "    output.format('indicador_20_proporcao_casos_cura_clinica_municipio_residencia.csv'), \n",
    "    index=False\n",
    ")"
   ]
  },
  {
   "cell_type": "code",
   "execution_count": 19,
   "metadata": {},
   "outputs": [],
   "source": [
    "indicadores.total_obitos_residencia_ano_21(\n",
    "    confirmados\n",
    ").reset_index().rename(\n",
    "    columns={'index': 'CO_MN_RESI'}\n",
    ").fillna(0).to_csv(\n",
    "    output.format('indicador_21_total_obitos_municipio_residencia.csv'), \n",
    "    index=False\n",
    ")"
   ]
  },
  {
   "cell_type": "code",
   "execution_count": 20,
   "metadata": {},
   "outputs": [],
   "source": [
    "indicadores.taxa_letalidade_municipio_residencia_ano_22(\n",
    "    confirmados\n",
    ").reset_index().rename(\n",
    "    columns={'index': 'CO_MN_RESI'}\n",
    ").fillna(0).to_csv(\n",
    "    output.format('indicador_22_taxa_letalidade_municipio_residencia.csv'), \n",
    "    index=False\n",
    ")"
   ]
  },
  {
   "cell_type": "code",
   "execution_count": 21,
   "metadata": {},
   "outputs": [],
   "source": [
    "indicadores.taxa_letalidade_hiv_municipio_residencia_ano_23(\n",
    "    confirmados\n",
    ").reset_index().rename(\n",
    "    columns={'index': 'CO_MN_RESI'}\n",
    ").fillna(0).to_csv(\n",
    "    output.format('indicador_23_taxa_letalidade_hiv_municipio_residencia.csv'), \n",
    "    index=False\n",
    ")"
   ]
  },
  {
   "cell_type": "code",
   "execution_count": 22,
   "metadata": {},
   "outputs": [],
   "source": [
    "indicadores.taxa_letalidade_menor_5_anos_municipio_residencia_ano_24(\n",
    "    confirmados\n",
    ").reset_index().rename(\n",
    "    columns={'index': 'CO_MN_RESI'}\n",
    ").fillna(0).to_csv(\n",
    "    output.format('indicador_24_taxa_letalidade_menor_5_anos_municipio_residencia.csv'), \n",
    "    index=False\n",
    ")"
   ]
  },
  {
   "cell_type": "code",
   "execution_count": 23,
   "metadata": {},
   "outputs": [],
   "source": [
    "indicadores.taxa_letalidade_50_anos_mais_municipio_residencia_ano_25(\n",
    "    confirmados\n",
    ").reset_index().rename(\n",
    "    columns={'index': 'CO_MN_RESI'}\n",
    ").fillna(0).to_csv(\n",
    "    output.format('indicador_25_taxa_letalidade_50_anos_mais_municipio_residencia.csv'), \n",
    "    index=False\n",
    ")"
   ]
  },
  {
   "cell_type": "code",
   "execution_count": 24,
   "metadata": {},
   "outputs": [],
   "source": [
    "indicadores.proporcao_casos_evolucao_ignorada_branco_ano_26(\n",
    "    confirmados\n",
    ").reset_index().rename(\n",
    "    columns={'index': 'CO_MN_RESI'}\n",
    ").fillna(0).to_csv(\n",
    "    output.format('indicador_26_proporcao_casos_evolucao_ignorada_branco_municipio_residencia.csv'), \n",
    "    index=False\n",
    ")"
   ]
  }
 ],
 "metadata": {
  "kernelspec": {
   "display_name": "Python 3",
   "language": "python",
   "name": "python3"
  },
  "language_info": {
   "codemirror_mode": {
    "name": "ipython",
    "version": 3
   },
   "file_extension": ".py",
   "mimetype": "text/x-python",
   "name": "python",
   "nbconvert_exporter": "python",
   "pygments_lexer": "ipython3",
   "version": "3.6.9"
  }
 },
 "nbformat": 4,
 "nbformat_minor": 4
}
