{
 "cells": [
  {
   "cell_type": "code",
   "execution_count": 1,
   "metadata": {},
   "outputs": [],
   "source": [
    "import pandas as pd\n",
    "import numpy as np"
   ]
  },
  {
   "cell_type": "markdown",
   "metadata": {},
   "source": [
    "# Calcular Principais Indicadores - LV\n",
    "\n",
    "- dados de casos confirmadosdados \n",
    "- dados de estimativa populacional\n",
    "- dados de municípios"
   ]
  },
  {
   "cell_type": "markdown",
   "metadata": {},
   "source": [
    "## Casos Confirmados"
   ]
  },
  {
   "cell_type": "code",
   "execution_count": 2,
   "metadata": {},
   "outputs": [],
   "source": [
    "confirmados = pd.read_csv('../data/interim/leivis/interim_leivis_limpos.csv', low_memory=False)\n",
    "municipios = pd.read_csv('../data/processed/processed_municipios.csv')\n",
    "populacao = pd.read_csv('../data/processed/processed_populacao.csv').set_index('MUNIC_RES')\n",
    "populacao.columns = populacao.columns.astype(int)"
   ]
  },
  {
   "cell_type": "markdown",
   "metadata": {},
   "source": [
    "## Indicadores\n",
    "\n",
    "- O cálculo dos indicadores é feito de acordo com as instruções do `CADERNO DE INDICADORES DE LEISHMANIOSE TEGUMENTAR E LEISHMANIOSE VISCERAL`, 2018, MINISTÉRIO DA SAÚDE, Secretaria de Vigilância em Saúde, presente no diretório de Referências."
   ]
  },
  {
   "cell_type": "code",
   "execution_count": 3,
   "metadata": {},
   "outputs": [],
   "source": [
    "import sys\n",
    "sys.path.append('../')\n",
    "\n",
    "import src.indicadores as indicadores"
   ]
  },
  {
   "cell_type": "code",
   "execution_count": 4,
   "metadata": {},
   "outputs": [],
   "source": [
    "output = '../data/indicadores/visceral/{}'"
   ]
  },
  {
   "cell_type": "code",
   "execution_count": 5,
   "metadata": {},
   "outputs": [
    {
     "name": "stdout",
     "output_type": "stream",
     "text": [
      "Help on function total_casos_novos_municipio_infeccao_ano_14 in module src.indicadores:\n",
      "\n",
      "total_casos_novos_municipio_infeccao_ano_14(df)\n",
      "    | Importância do indicador: Conhecer a ocorrência de casos de LV, a distribuição espacial e temporal e\n",
      "    | a tendência;\n",
      "    |\n",
      "    |Método de cálculo: Número total de casos novos de LV por local provável de infecção (UF, município, região administrativa ou localidade) no ano de notificação\n",
      "    | input:\n",
      "    | - df (dataframe com dados históricos)\n",
      "    | - local (UF, município, região administrativa ou localidade)\n",
      "    | - ano (2007 a 2019)\n",
      "    | output:\n",
      "    | - dataframe com Número total de casos novos de LV por local provável de infecção.\n",
      "\n"
     ]
    }
   ],
   "source": [
    "help(indicadores.total_casos_novos_municipio_infeccao_ano_14)"
   ]
  },
  {
   "cell_type": "markdown",
   "metadata": {},
   "source": [
    "### A partir daqui serão calculados 12 indicadores de LV"
   ]
  },
  {
   "cell_type": "code",
   "execution_count": 6,
   "metadata": {
    "scrolled": true
   },
   "outputs": [],
   "source": [
    "indicadores.total_casos_novos_municipio_infeccao_ano_14(\n",
    "    confirmados\n",
    ").reset_index().rename(\n",
    "    columns={'index': 'CO_MN_INF'}\n",
    ").fillna(0).to_csv(output.format('indicador_14_total_casos_novos_municipio_infeccao.csv'), index=False)"
   ]
  },
  {
   "cell_type": "code",
   "execution_count": 7,
   "metadata": {
    "scrolled": true
   },
   "outputs": [],
   "source": [
    "indicadores.taxa_geral_incidencia_municipio_infeccao_ano_15(\n",
    "    confirmados, populacao\n",
    ").reset_index().rename(\n",
    "    columns={'index': 'CO_MN_INF'}\n",
    ").fillna(0).to_csv(output.format('indicador_15_taxa_incidencia_municipio_infeccao.csv'), index=False)"
   ]
  },
  {
   "cell_type": "code",
   "execution_count": 8,
   "metadata": {},
   "outputs": [],
   "source": [
    "indicadores.proporcao_casos_confirmados_criterio_laboratorial_16(\n",
    "    confirmados\n",
    ").reset_index().rename(\n",
    "    columns={'index': 'CO_MN_RESI'}\n",
    ").fillna(0).to_csv(\n",
    "    output.format('indicador_16_proporcao_casos_criterio_laboratorial_municipio_residencia.csv'), \n",
    "    index=False\n",
    ")"
   ]
  },
  {
   "cell_type": "code",
   "execution_count": 9,
   "metadata": {},
   "outputs": [],
   "source": [
    "indicadores.proporcao_casos_menor_5_anos_17(\n",
    "    confirmados\n",
    ").reset_index().rename(\n",
    "    columns={'index': 'CO_MN_INF'}\n",
    ").fillna(0).to_csv(\n",
    "    output.format('indicador_17_proporcao_casos_menor_5_anos_municipio_infeccao.csv'), \n",
    "    index=False\n",
    ")"
   ]
  },
  {
   "cell_type": "code",
   "execution_count": 10,
   "metadata": {},
   "outputs": [],
   "source": [
    "indicadores.proporcao_casos_50_anos_mais_18(\n",
    "    confirmados\n",
    ").reset_index().rename(\n",
    "    columns={'index': 'CO_MN_INF'}\n",
    ").fillna(0).to_csv(\n",
    "    output.format('indicador_18_proporcao_casos_50_anos_mais_municipio_infeccao.csv'), \n",
    "    index=False\n",
    ")"
   ]
  },
  {
   "cell_type": "code",
   "execution_count": 11,
   "metadata": {},
   "outputs": [],
   "source": [
    "indicadores.proporcao_casos_hiv_19(\n",
    "    confirmados\n",
    ").reset_index().rename(\n",
    "    columns={'index': 'CO_MN_INF'}\n",
    ").fillna(0).to_csv(\n",
    "    output.format('indicador_19_proporcao_casos_hiv_municipio_infeccao.csv'), \n",
    "    index=False\n",
    ")"
   ]
  },
  {
   "cell_type": "code",
   "execution_count": 12,
   "metadata": {},
   "outputs": [],
   "source": [
    "indicadores.proporcao_casos_cura_clinica_20(\n",
    "    confirmados\n",
    ").reset_index().rename(\n",
    "    columns={'index': 'CO_MN_RESI'}\n",
    ").fillna(0).to_csv(\n",
    "    output.format('indicador_20_proporcao_casos_cura_clinica_municipio_residencia.csv'), \n",
    "    index=False\n",
    ")"
   ]
  },
  {
   "cell_type": "code",
   "execution_count": 13,
   "metadata": {},
   "outputs": [],
   "source": [
    "indicadores.total_obitos_residencia_ano_21(\n",
    "    confirmados\n",
    ").reset_index().rename(\n",
    "    columns={'index': 'CO_MN_RESI'}\n",
    ").fillna(0).to_csv(\n",
    "    output.format('indicador_21_total_obitos_municipio_residencia.csv'), \n",
    "    index=False\n",
    ")"
   ]
  },
  {
   "cell_type": "code",
   "execution_count": 14,
   "metadata": {},
   "outputs": [],
   "source": [
    "indicadores.taxa_letalidade_municipio_residencia_ano_22(\n",
    "    confirmados\n",
    ").reset_index().rename(\n",
    "    columns={'index': 'CO_MN_RESI'}\n",
    ").fillna(0).to_csv(\n",
    "    output.format('indicador_22_taxa_letalidade_municipio_residencia.csv'), \n",
    "    index=False\n",
    ")"
   ]
  },
  {
   "cell_type": "code",
   "execution_count": 15,
   "metadata": {},
   "outputs": [],
   "source": [
    "indicadores.taxa_letalidade_hiv_municipio_residencia_ano_23(\n",
    "    confirmados\n",
    ").reset_index().rename(\n",
    "    columns={'index': 'CO_MN_RESI'}\n",
    ").fillna(0).to_csv(\n",
    "    output.format('indicador_23_taxa_letalidade_hiv_municipio_residencia.csv'), \n",
    "    index=False\n",
    ")"
   ]
  },
  {
   "cell_type": "code",
   "execution_count": 16,
   "metadata": {},
   "outputs": [],
   "source": [
    "indicadores.taxa_letalidade_menor_5_anos_municipio_residencia_ano_24(\n",
    "    confirmados\n",
    ").reset_index().rename(\n",
    "    columns={'index': 'CO_MN_RESI'}\n",
    ").fillna(0).to_csv(\n",
    "    output.format('indicador_24_taxa_letalidade_menor_5_anos_municipio_residencia.csv'), \n",
    "    index=False\n",
    ")"
   ]
  },
  {
   "cell_type": "code",
   "execution_count": 17,
   "metadata": {},
   "outputs": [],
   "source": [
    "indicadores.taxa_letalidade_50_anos_mais_municipio_residencia_ano_25(\n",
    "    confirmados\n",
    ").reset_index().rename(\n",
    "    columns={'index': 'CO_MN_RESI'}\n",
    ").fillna(0).to_csv(\n",
    "    output.format('indicador_25_taxa_letalidade_50_anos_mais_municipio_residencia.csv'), \n",
    "    index=False\n",
    ")"
   ]
  },
  {
   "cell_type": "code",
   "execution_count": 18,
   "metadata": {},
   "outputs": [],
   "source": [
    "indicadores.proporcao_casos_evolucao_ignorada_branco_ano_26(\n",
    "    confirmados\n",
    ").reset_index().rename(\n",
    "    columns={'index': 'CO_MN_RESI'}\n",
    ").fillna(0).to_csv(\n",
    "    output.format('indicador_26_proporcao_casos_evolucao_ignorada_branco_municipio_residencia.csv'), \n",
    "    index=False\n",
    ")"
   ]
  }
 ],
 "metadata": {
  "kernelspec": {
   "display_name": "Python 3",
   "language": "python",
   "name": "python3"
  },
  "language_info": {
   "codemirror_mode": {
    "name": "ipython",
    "version": 3
   },
   "file_extension": ".py",
   "mimetype": "text/x-python",
   "name": "python",
   "nbconvert_exporter": "python",
   "pygments_lexer": "ipython3",
   "version": "3.6.9"
  }
 },
 "nbformat": 4,
 "nbformat_minor": 4
}
