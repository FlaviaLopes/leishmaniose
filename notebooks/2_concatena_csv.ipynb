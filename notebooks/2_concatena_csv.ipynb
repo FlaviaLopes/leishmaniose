{
 "cells": [
  {
   "cell_type": "code",
   "execution_count": 1,
   "metadata": {},
   "outputs": [],
   "source": [
    "import pandas as pd\n",
    "import os"
   ]
  },
  {
   "cell_type": "code",
   "execution_count": 2,
   "metadata": {},
   "outputs": [],
   "source": [
    "path_leivis = '../data/interim/leivis'\n",
    "path_leiteg = '../data/interim/leiteg'\n",
    "path_populacao = '../data/interim/populacao'"
   ]
  },
  {
   "cell_type": "code",
   "execution_count": 3,
   "metadata": {},
   "outputs": [],
   "source": [
    "def concat_data(path):\n",
    "    '''\n",
    "    Lê todos arquivos no diretório passado (path) e os une em apenas um dataframe.\n",
    "    Em seguida remove os arquivos do diretório que forma unidos.\n",
    "    output: salva um arquivo .csv no mesmo diretório de entrada fornecido.\n",
    "    '''\n",
    "    import os, errno\n",
    "    def silent_remove(file):\n",
    "        try:\n",
    "            os.remove(file)\n",
    "        except OSError as e:\n",
    "            if e.errno != errno.ENOENT: \n",
    "                raise\n",
    "    #agrupando bases - todos anos\n",
    "    files = os.listdir(path)\n",
    "    df = pd.DataFrame()\n",
    "    for filename in files:\n",
    "        df = pd.concat([df, pd.read_csv(f'{path}/{filename}', encoding ='latin1', low_memory=False)], axis=0)\n",
    "\n",
    "    df.to_csv(f\"{path}/interim_{path.split('/')[-1]}.csv\", index=False)\n",
    "    \n",
    "    for filename in files:\n",
    "        silent_remove(f'{path}/{filename}')\n",
    "        "
   ]
  },
  {
   "cell_type": "code",
   "execution_count": 4,
   "metadata": {},
   "outputs": [],
   "source": [
    "concat_data(path_leivis)\n",
    "#concat_data(path_leiteg)\n",
    "concat_data(path_populacao)"
   ]
  }
 ],
 "metadata": {
  "kernelspec": {
   "display_name": "Python 3",
   "language": "python",
   "name": "python3"
  },
  "language_info": {
   "codemirror_mode": {
    "name": "ipython",
    "version": 3
   },
   "file_extension": ".py",
   "mimetype": "text/x-python",
   "name": "python",
   "nbconvert_exporter": "python",
   "pygments_lexer": "ipython3",
   "version": "3.6.9"
  }
 },
 "nbformat": 4,
 "nbformat_minor": 4
}
