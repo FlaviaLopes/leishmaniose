{
 "cells": [
  {
   "cell_type": "markdown",
   "metadata": {},
   "source": [
    "## Dados de deslocamento\n",
    "### Padronizando, limpando os textos"
   ]
  },
  {
   "cell_type": "code",
   "execution_count": null,
   "metadata": {},
   "outputs": [],
   "source": [
    "confirmados = pd.read_csv('../data/processed/confirmados.csv')"
   ]
  },
  {
   "cell_type": "code",
   "execution_count": null,
   "metadata": {},
   "outputs": [],
   "source": [
    "def clean_dados_deslocamento(col):\n",
    "    confirmados[col] = confirmados[col].apply(lambda x: ' '.join(str(x).split())) \n",
    "    confirmados[col] = confirmados[col].apply(lambda x: str(x).replace('.', ''))\n",
    "    \n",
    "    confirmados[col] = confirmados[col].astype('string')\n",
    "    confirmados.loc[\n",
    "        (confirmados[col].str.contains('DES')) & \n",
    "        (confirmados[col].str.contains('N')), \n",
    "        col\n",
    "    ] = 'NAO SE DESLOCOU'\n",
    "    \n",
    "    confirmados.loc[\n",
    "        confirmados[col].str.contains('NAO V'),\n",
    "        col\n",
    "    ] = 'NAO SE DESLOCOU'\n",
    "\n",
    "    confirmados.loc[\n",
    "        confirmados[col].str.contains('FRE'),\n",
    "        col\n",
    "    ] = 'FREQUENTEMENTE'\n",
    "\n",
    "    confirmados.loc[\n",
    "        (confirmados[col].str.contains('NAO HOUVE')) | \n",
    "        (confirmados[col].str.endswith('NAO')),\n",
    "        col\n",
    "    ] = 'NAO SE DESLOCOU'"
   ]
  },
  {
   "cell_type": "code",
   "execution_count": null,
   "metadata": {},
   "outputs": [],
   "source": [
    "a = []\n",
    "for it in ['DS_TRANS_1', 'DS_TRANS_2', 'DS_TRANS_3']:\n",
    "    a.append([it, confirmados[it].unique().size])\n",
    "    clean_dados_deslocamento(it)\n",
    "    a.append([it, confirmados[it].unique().size])\n",
    "a "
   ]
  },
  {
   "cell_type": "code",
   "execution_count": null,
   "metadata": {},
   "outputs": [],
   "source": [
    "text = []\n",
    "for col in ['DS_TRANS_1', 'DS_TRANS_2', 'DS_TRANS_3']:\n",
    "    text += ['_'.join(it.split()) for it in confirmados[col][confirmados[col] != 'nan']]\n",
    "\n",
    "text = list(set(text))\n",
    "text = ' '.join(text).strip()\n",
    "text"
   ]
  },
  {
   "cell_type": "code",
   "execution_count": null,
   "metadata": {},
   "outputs": [],
   "source": [
    "from wordcloud import WordCloud\n",
    "wordcloud = WordCloud(background_color=\"gray\", min_font_size=3, ).generate(text)\n",
    "\n",
    "fig, ax = plt.subplots(1, 1, figsize=(12,15))\n",
    "plt.imshow(wordcloud, interpolation='bilinear')\n",
    "plt.axis(\"off\")\n",
    "plt.show()"
   ]
  },
  {
   "cell_type": "code",
   "execution_count": null,
   "metadata": {},
   "outputs": [],
   "source": [
    "for it in ['DISTENSAO ABDOMINAL', 'ABDOME DISTENDIDO', 'DISTENCAO ABDOMINAL', 'DISTENS+O ABDOMINAL', 'AUMENTO ABDOMINAL',\n",
    "    'ABDOMEN GLOBOSO', 'ABDOME GLOBOSO', 'ABDOMINAL', 'AUMENTO DO VOLUME ABDOMINAL', 'AUMENTO DE VOLUME ABDOMINAL',\n",
    "    'ABDOMEMDESTENDIDO', 'ABDOMEM DISTENDIDO', 'ABDOMEN DISTENDIDO', 'AUMENTO VOLUME ABDOMINAL',\n",
    "    'DISTENâÃ¢+O ABDOMINAL','DISTENâ+O ABDOMINAL', 'DISTENÃ+OABDOMINAL', 'ABDOMEM GLOBOSO',\n",
    "    'DISTENÃ+O ABDOMINAL', 'DISTENâÃ¢AO ABDOMINAL', 'DISTENSAOABDOMINAL','DISTINCAO ABDOMINAL',\n",
    "    'DISTENC?O ABDOMINAL', 'DISTENÃAO ABDOMINAL','AUMENTO DO ABDOMEM','ABDOMEN ESTENDIDO','ABDOMEM ESTENDIDO',\n",
    "    'ABDOMENDISTENDIDO', 'DISTENSAO ABD', 'ABDOMEMGLOBOSO', 'VOLUME ABDOMINAL','DISTENS+OABDOMINAL',\n",
    "    'DISTENCAOABDOMINAL','ABDOMEMCOMLEVEDISTENÃ+O','ABDOMEDISTENDIDO','DISTENâAi ADOMINAL','DISTENS+O ABNOMINAL',\n",
    "    'ABDOME  DISTENDIDO','DIST ABD','ABDOMEM VOLUMOSO','AUMENTO VOL ABD','ABDOMEMVOLUMOSO', 'AUMENTODEVOLUMEABDOMINAL',\n",
    "    'AUM VOLUME ABDOMINAL','AUMENTO VOL ABDOMINAL','AUMENTOVOLUMEABDOMINAL','ABDOME VOLUMOSO',\n",
    "    'AUMENTO DE VOLUME ABDOMINAL E', 'AUMENTO DO  VOLUME ABDOMINAL','AUMENTOVOLABD','AUMENTO DO VOL ABD',\n",
    "    'ABDOMEVOLUMOSO','ABDOMENDESTENDIDO','BARRIGAINCHADA']:\n",
    "    confirmados.loc[(~confirmados.OUTROS_ESP.isnull()), 'OUTROS_ESP'] = confirmados.loc[(~confirmados.OUTROS_ESP.isnull()), 'OUTROS_ESP'].replace(it, 'DISTENSÃO ABDOMINAL')\n",
    "\n",
    "for it in ['DOR ABD', 'DORABDOMINAL', 'DORES ABDOMINAIS']:\n",
    "    confirmados.loc[(~confirmados.OUTROS_ESP.isnull()), 'OUTROS_ESP'] = confirmados.loc[(~confirmados.OUTROS_ESP.isnull()), 'OUTROS_ESP'].replace(it, 'DOR ABDOMINAL')\n",
    "\n",
    "for it in ['VâÃªMITOS', 'VÃMITOS', 'VâMITOS', 'VÃMITO','VâMITO']:\n",
    "    confirmados.loc[(~confirmados.OUTROS_ESP.isnull()), 'OUTROS_ESP'] = confirmados.loc[(~confirmados.OUTROS_ESP.isnull()), 'OUTROS_ESP'].replace(it, 'VÔMITOS')\n",
    "\n",
    "for it in ['PANCETOPENIA', 'PANCITOPEMIA', 'PONCITOPENIA','PANCITOPNIA', \n",
    "           'PACITOPENIA', 'PANCETOPIENIA', 'PANTOCETOPENIA','PANCITOPINIA']:\n",
    "    confirmados.loc[(~confirmados.OUTROS_ESP.isnull()), 'OUTROS_ESP'] = confirmados.loc[(~confirmados.OUTROS_ESP.isnull()), 'OUTROS_ESP'].replace(it, 'PANCITOPENIA')\n",
    "\n",
    "for it in ['CONSTIPAâÃ¢+O', 'CONSTIPAâÃ¢AO', 'CONSTIPAÃ+O', 'CONSTIPAÃAO', 'CONSTIPAÃ+O INTESTINAL', \n",
    "           'CONSTIPACAO INTESTINAL']:\n",
    "    confirmados.loc[(~confirmados.OUTROS_ESP.isnull()), 'OUTROS_ESP'] = confirmados.loc[(~confirmados.OUTROS_ESP.isnull()), 'OUTROS_ESP'].replace(it, 'CONSTIPAÇÃO')\n",
    "\n",
    "for it in ['DESNUTRIâ+O', 'DESNUTRIÃAO', 'DESNUTRIÃAO', 'DESNUTRICAO']:\n",
    "    confirmados.loc[(~confirmados.OUTROS_ESP.isnull()), 'OUTROS_ESP'] = confirmados.loc[(~confirmados.OUTROS_ESP.isnull()), 'OUTROS_ESP'].replace(it, 'DESNUTRIÇÃO')\n",
    "\n",
    "confirmados.loc[(~confirmados.OUTROS_ESP.isnull()), 'OUTROS_ESP'] =  confirmados.loc[(~confirmados.OUTROS_ESP.isnull()), 'OUTROS_ESP'].replace('CEFAL+IA', 'CEFALÉIA').replace('CEFALEIA', 'CEFALÉIA')"
   ]
  },
  {
   "cell_type": "code",
   "execution_count": null,
   "metadata": {},
   "outputs": [],
   "source": [
    "#CEFAL+IA\n",
    "#PNM\n",
    "#ESPLENOMIGOLIA\n",
    "#DOR EM MMII\n",
    "#INAPET-NCIA \n",
    "#CONFUS+O MENTAL\n",
    "#CANSAÃO CANSAâO \n",
    "#DISPIN+IA DESPINEIA\n",
    "#CONVULS+O \n",
    "#SIDA\n",
    "#VâÃªMITO E ANEMIA \n",
    "#PROSTRAÃ+O\n",
    "confirmados.loc[(~confirmados.OUTROS_ESP.isnull()), 'OUTROS_ESP'].value_counts()"
   ]
  },
  {
   "cell_type": "code",
   "execution_count": null,
   "metadata": {},
   "outputs": [],
   "source": []
  }
 ],
 "metadata": {
  "kernelspec": {
   "display_name": "Python 3",
   "language": "python",
   "name": "python3"
  },
  "language_info": {
   "codemirror_mode": {
    "name": "ipython",
    "version": 3
   },
   "file_extension": ".py",
   "mimetype": "text/x-python",
   "name": "python",
   "nbconvert_exporter": "python",
   "pygments_lexer": "ipython3",
   "version": "3.6.9"
  }
 },
 "nbformat": 4,
 "nbformat_minor": 4
}
