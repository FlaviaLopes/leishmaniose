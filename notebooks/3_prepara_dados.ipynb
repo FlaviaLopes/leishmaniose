{
 "cells": [
  {
   "cell_type": "code",
   "execution_count": 1,
   "metadata": {},
   "outputs": [],
   "source": [
    "import pandas as pd\n",
    "import numpy as np\n",
    "import matplotlib.pyplot as plt\n",
    "\n",
    "pd.set_option('display.max_colwidth', 1000)\n",
    "%matplotlib inline"
   ]
  },
  {
   "cell_type": "code",
   "execution_count": 2,
   "metadata": {},
   "outputs": [],
   "source": [
    "path_leivis = '../data/interim/leivis'\n",
    "path_dicionario = '../data/dicionario.csv'"
   ]
  },
  {
   "cell_type": "code",
   "execution_count": 3,
   "metadata": {},
   "outputs": [
    {
     "data": {
      "text/plain": [
       "'Consumo de memória em MB: 146.93 MB'"
      ]
     },
     "execution_count": 3,
     "metadata": {},
     "output_type": "execute_result"
    }
   ],
   "source": [
    "df = pd.read_csv(f'{path_leivis}/output_full.csv', low_memory=False).drop('Unnamed: 0', axis=1)\n",
    "f'Consumo de memória em MB: {round(df.memory_usage(deep=True).sum() / (1024*1024), 2)} MB'"
   ]
  },
  {
   "cell_type": "code",
   "execution_count": null,
   "metadata": {},
   "outputs": [],
   "source": [
    "print(df.columns)"
   ]
  },
  {
   "cell_type": "code",
   "execution_count": null,
   "metadata": {},
   "outputs": [],
   "source": [
    "# dicionário dos dados: para facilitar consulta apenas\n",
    "dic = pd.read_csv(path_dicionario, sep='\\t')\n",
    "dic.columns = ['id', 'tipo', 'categorias', 'descricao', 'caracteristicas', 'dbf']\n",
    "cols = list(set(dic.dbf).intersection(set(df.columns)))\n",
    "dic = dic.set_index('dbf')\n",
    "dic = dic.loc[cols, ['categorias', 'descricao', 'caracteristicas']]"
   ]
  },
  {
   "cell_type": "markdown",
   "metadata": {},
   "source": [
    "## Visualizando a descrição dos dados junto com o dicionário \n",
    "corra as células para ver descrição das variáveis"
   ]
  },
  {
   "cell_type": "code",
   "execution_count": null,
   "metadata": {
    "scrolled": true
   },
   "outputs": [],
   "source": [
    "# do tipo objeto\n",
    "pd.concat([\n",
    "    df.describe(include='object').T, dic.loc[df.describe(include='object').T.index, :]\n",
    "], axis=1\n",
    ")"
   ]
  },
  {
   "cell_type": "code",
   "execution_count": null,
   "metadata": {
    "scrolled": true
   },
   "outputs": [],
   "source": [
    "# do tipo numérico\n",
    "pd.concat([\n",
    "    df.describe().loc[['count', 'mean', 'std', 'min', 'max'], :].T, dic.loc[df.describe().T.index, :]\n",
    "], axis=1\n",
    ")"
   ]
  },
  {
   "cell_type": "markdown",
   "metadata": {},
   "source": [
    "## Dividindo os dados de acordo com a classificação final\n",
    "\n",
    "- classificação final, CLASSI_FIN: \n",
    "    - 1 = confirmado; \n",
    "    - 2 = descartado."
   ]
  },
  {
   "cell_type": "code",
   "execution_count": 4,
   "metadata": {},
   "outputs": [
    {
     "data": {
      "text/html": [
       "<div>\n",
       "<style scoped>\n",
       "    .dataframe tbody tr th:only-of-type {\n",
       "        vertical-align: middle;\n",
       "    }\n",
       "\n",
       "    .dataframe tbody tr th {\n",
       "        vertical-align: top;\n",
       "    }\n",
       "\n",
       "    .dataframe thead th {\n",
       "        text-align: right;\n",
       "    }\n",
       "</style>\n",
       "<table border=\"1\" class=\"dataframe\">\n",
       "  <thead>\n",
       "    <tr style=\"text-align: right;\">\n",
       "      <th></th>\n",
       "      <th>CLASSI_FIN</th>\n",
       "    </tr>\n",
       "  </thead>\n",
       "  <tbody>\n",
       "    <tr>\n",
       "      <th>2.0</th>\n",
       "      <td>65326</td>\n",
       "    </tr>\n",
       "    <tr>\n",
       "      <th>1.0</th>\n",
       "      <td>47853</td>\n",
       "    </tr>\n",
       "    <tr>\n",
       "      <th>NaN</th>\n",
       "      <td>4952</td>\n",
       "    </tr>\n",
       "    <tr>\n",
       "      <th>8.0</th>\n",
       "      <td>4371</td>\n",
       "    </tr>\n",
       "  </tbody>\n",
       "</table>\n",
       "</div>"
      ],
      "text/plain": [
       "     CLASSI_FIN\n",
       "2.0       65326\n",
       "1.0       47853\n",
       "NaN        4952\n",
       "8.0        4371"
      ]
     },
     "execution_count": 4,
     "metadata": {},
     "output_type": "execute_result"
    }
   ],
   "source": [
    "df.CLASSI_FIN.value_counts(dropna=False).to_frame()"
   ]
  },
  {
   "cell_type": "code",
   "execution_count": 5,
   "metadata": {},
   "outputs": [
    {
     "data": {
      "image/png": "[encoded data removed]",
      "text/plain": [
       "<Figure size 1080x288 with 2 Axes>"
      ]
     },
     "metadata": {
      "needs_background": "light"
     },
     "output_type": "display_data"
    }
   ],
   "source": [
    "null = df.loc[\n",
    "    df.CLASSI_FIN.isnull(), :\n",
    "].groupby('COUFINF')['COUFINF'].count().sort_values(ascending=False)\n",
    "\n",
    "invalid = df.loc[\n",
    "    df.CLASSI_FIN == 8, :\n",
    "].groupby('COUFINF')['COUFINF'].count().sort_values(ascending=False)\n",
    "\n",
    "ufs = {\n",
    "    11: 'RO', 12: 'AC', 13: 'AM', 14: 'RR', 15: 'PA', 16: 'AP', 17: 'TO', 21: 'MA', 22: 'PI', 23: 'CE',\n",
    "    24: 'RN', 25: 'PB', 26: 'PE', 27: 'AL', 28: 'SE', 29: 'BA', 31: 'MG', 32: 'ES', 33: 'RJ', 35: 'SP',\n",
    "    41: 'PR', 42: 'SC', 43: 'RS', 50: 'MT', 51: 'MS', 52: 'GO', 53: 'DF'\n",
    "}\n",
    "null.index = null.index.map(ufs)\n",
    "invalid.index = invalid.index.map(ufs)\n",
    "\n",
    "\n",
    "fig, axs = plt.subplots(1, 2, figsize=(15, 4), sharey=True)\n",
    "axs[0].bar(null.index, null.values)\n",
    "axs[0].set_title(f'sem classificação final: CLASSI_FIN = NULL ({null.values.sum()})')\n",
    "axs[1].bar(invalid.index, invalid.values)\n",
    "axs[1].set_title(f'classificação final fora do intervalo: CLASSI_FIN = 8.0 ({invalid.values.sum()})')\n",
    "plt.xticks(rotation=50)\n",
    "\n",
    "fig.suptitle(\"\"\"Amostras que serão desconsideradas devido valor inconsistente de `CLASSI_FIN` agrupadas por UF\\\n",
    " mais as amostras que não estão associadas a UFs: 4952 + 4371\"\"\")\n",
    "plt.show()"
   ]
  },
  {
   "cell_type": "code",
   "execution_count": 6,
   "metadata": {},
   "outputs": [
    {
     "data": {
      "image/png": "[encoded data removed]",
      "text/plain": [
       "<Figure size 432x288 with 1 Axes>"
      ]
     },
     "metadata": {
      "needs_background": "light"
     },
     "output_type": "display_data"
    }
   ],
   "source": [
    "data = df.loc[\n",
    "    (df.CLASSI_FIN == 1.0) | (df.CLASSI_FIN == 2.0), :\n",
    "].groupby('CLASSI_FIN')['CLASSI_FIN'].count().sort_values(ascending=False)\n",
    "\n",
    "fig, ax = plt.subplots()\n",
    "ax.bar(data.index.astype(int).astype('string'), data.values/data.sum()*100)\n",
    "ax.set_title('total descartados e confirmados em %')\n",
    "fig.suptitle(f'total descartado = {data.iloc[0]}   total confirmado = {data.iloc[1]}')\n",
    "\n",
    "ax.set_ylabel('%')\n",
    "ax.set_xlabel('classificação final')\n",
    "\n",
    "plt.show()"
   ]
  },
  {
   "cell_type": "code",
   "execution_count": 7,
   "metadata": {},
   "outputs": [],
   "source": [
    "confirmados = df.loc[(df.CLASSI_FIN == 1.0), :].copy()\n",
    "confirmados.columns = ['TP_NOT', 'ID_AGRAVO', 'DT_NOT', 'SEMANA_NOT', 'ANO', 'CO_UF_NOT',\n",
    "                       'CO_MN_NOT', 'ID_REGIONA', 'DT_PRI_SIN', 'SEMANA_PRI_SIN', 'DT_NASC',\n",
    "                       'NU_IDADE_N', 'CS_SEXO', 'CS_GESTANT', 'CS_RACA', 'CS_ESCOL_N', 'CO_UF_RESI',\n",
    "                       'CO_MN_RESI', 'ID_RG_RESI', 'CO_PAIS', 'NDUPLIC_N', 'CS_FLXRET',\n",
    "                       'FLXRECEBI', 'MIGRADO_W', 'DT_INVEST', 'ID_OCUPA_N', 'FEBRE',\n",
    "                       'FRAQUEZA', 'EDEMA', 'EMAGRECIMENTO', 'TOSSE', 'PALIDEZ', 'BACO', 'INFECCIOSO',\n",
    "                       'FEN_HEMORR', 'FIGADO', 'ICTERICIA', 'OUTROS', 'OUTROS_ESP', 'HIV',\n",
    "                       'DIAG_PARASITOLOGICO', 'IFI', 'OUTRO', 'ENTRADA', 'TRATAMENTO', 'DROGA', 'PESO',\n",
    "                       'DOSE', 'AMPOLAS', 'FALENCIA', 'CLASSI_FIN', 'CRITERIO', 'TPAUTOCTO',\n",
    "                       'CO_UF_INF', 'CO_PAIS_INF', 'CO_MN_INF', 'DOENCA_TRABALHO', 'EVOLUCAO',\n",
    "                       'DT_OBITO', 'DT_ENCERRAMENTO', 'DT_DESLC1', 'DS_MUN_1', 'CO_UF_1',\n",
    "                       'CO_PAIS_1', 'DS_TRANS_1', 'DT_DESLC2', 'DS_MUN_2', 'CO_UF_2',\n",
    "                       'CO_PAIS_2', 'DS_TRANS_2', 'DT_DESLC3', 'DS_MUN_3', 'CO_UF_3',\n",
    "                       'CO_PAIS_3', 'DS_TRANS_3'\n",
    "                      ]"
   ]
  },
  {
   "cell_type": "code",
   "execution_count": 8,
   "metadata": {},
   "outputs": [
    {
     "data": {
      "text/html": [
       "<div>\n",
       "<style scoped>\n",
       "    .dataframe tbody tr th:only-of-type {\n",
       "        vertical-align: middle;\n",
       "    }\n",
       "\n",
       "    .dataframe tbody tr th {\n",
       "        vertical-align: top;\n",
       "    }\n",
       "\n",
       "    .dataframe thead th {\n",
       "        text-align: right;\n",
       "    }\n",
       "</style>\n",
       "<table border=\"1\" class=\"dataframe\">\n",
       "  <thead>\n",
       "    <tr style=\"text-align: right;\">\n",
       "      <th></th>\n",
       "      <th>count</th>\n",
       "      <th>unique</th>\n",
       "      <th>top</th>\n",
       "      <th>freq</th>\n",
       "      <th>mean</th>\n",
       "      <th>std</th>\n",
       "      <th>min</th>\n",
       "      <th>25%</th>\n",
       "      <th>50%</th>\n",
       "      <th>75%</th>\n",
       "      <th>max</th>\n",
       "    </tr>\n",
       "  </thead>\n",
       "  <tbody>\n",
       "    <tr>\n",
       "      <th>TP_NOT</th>\n",
       "      <td>47853</td>\n",
       "      <td>NaN</td>\n",
       "      <td>NaN</td>\n",
       "      <td>NaN</td>\n",
       "      <td>2</td>\n",
       "      <td>0</td>\n",
       "      <td>2</td>\n",
       "      <td>2</td>\n",
       "      <td>2</td>\n",
       "      <td>2</td>\n",
       "      <td>2</td>\n",
       "    </tr>\n",
       "    <tr>\n",
       "      <th>ID_AGRAVO</th>\n",
       "      <td>47853</td>\n",
       "      <td>1</td>\n",
       "      <td>B550</td>\n",
       "      <td>47853</td>\n",
       "      <td>NaN</td>\n",
       "      <td>NaN</td>\n",
       "      <td>NaN</td>\n",
       "      <td>NaN</td>\n",
       "      <td>NaN</td>\n",
       "      <td>NaN</td>\n",
       "      <td>NaN</td>\n",
       "    </tr>\n",
       "    <tr>\n",
       "      <th>DT_NOT</th>\n",
       "      <td>47853</td>\n",
       "      <td>4625</td>\n",
       "      <td>2011-09-05</td>\n",
       "      <td>30</td>\n",
       "      <td>NaN</td>\n",
       "      <td>NaN</td>\n",
       "      <td>NaN</td>\n",
       "      <td>NaN</td>\n",
       "      <td>NaN</td>\n",
       "      <td>NaN</td>\n",
       "      <td>NaN</td>\n",
       "    </tr>\n",
       "    <tr>\n",
       "      <th>SEMANA_NOT</th>\n",
       "      <td>47853</td>\n",
       "      <td>NaN</td>\n",
       "      <td>NaN</td>\n",
       "      <td>NaN</td>\n",
       "      <td>200979</td>\n",
       "      <td>8228.78</td>\n",
       "      <td>836</td>\n",
       "      <td>201006</td>\n",
       "      <td>201323</td>\n",
       "      <td>201640</td>\n",
       "      <td>202001</td>\n",
       "    </tr>\n",
       "    <tr>\n",
       "      <th>ANO</th>\n",
       "      <td>47853</td>\n",
       "      <td>NaN</td>\n",
       "      <td>NaN</td>\n",
       "      <td>NaN</td>\n",
       "      <td>2012.91</td>\n",
       "      <td>3.71685</td>\n",
       "      <td>2007</td>\n",
       "      <td>2010</td>\n",
       "      <td>2013</td>\n",
       "      <td>2016</td>\n",
       "      <td>2019</td>\n",
       "    </tr>\n",
       "    <tr>\n",
       "      <th>...</th>\n",
       "      <td>...</td>\n",
       "      <td>...</td>\n",
       "      <td>...</td>\n",
       "      <td>...</td>\n",
       "      <td>...</td>\n",
       "      <td>...</td>\n",
       "      <td>...</td>\n",
       "      <td>...</td>\n",
       "      <td>...</td>\n",
       "      <td>...</td>\n",
       "      <td>...</td>\n",
       "    </tr>\n",
       "    <tr>\n",
       "      <th>DT_DESLC3</th>\n",
       "      <td>53</td>\n",
       "      <td>50</td>\n",
       "      <td>2018-07-01</td>\n",
       "      <td>2</td>\n",
       "      <td>NaN</td>\n",
       "      <td>NaN</td>\n",
       "      <td>NaN</td>\n",
       "      <td>NaN</td>\n",
       "      <td>NaN</td>\n",
       "      <td>NaN</td>\n",
       "      <td>NaN</td>\n",
       "    </tr>\n",
       "    <tr>\n",
       "      <th>DS_MUN_3</th>\n",
       "      <td>65</td>\n",
       "      <td>NaN</td>\n",
       "      <td>NaN</td>\n",
       "      <td>NaN</td>\n",
       "      <td>328495</td>\n",
       "      <td>97996.2</td>\n",
       "      <td>110094</td>\n",
       "      <td>270630</td>\n",
       "      <td>315120</td>\n",
       "      <td>354340</td>\n",
       "      <td>521523</td>\n",
       "    </tr>\n",
       "    <tr>\n",
       "      <th>CO_UF_3</th>\n",
       "      <td>72</td>\n",
       "      <td>NaN</td>\n",
       "      <td>NaN</td>\n",
       "      <td>NaN</td>\n",
       "      <td>32.4167</td>\n",
       "      <td>9.56335</td>\n",
       "      <td>11</td>\n",
       "      <td>27.75</td>\n",
       "      <td>31</td>\n",
       "      <td>35</td>\n",
       "      <td>52</td>\n",
       "    </tr>\n",
       "    <tr>\n",
       "      <th>CO_PAIS_3</th>\n",
       "      <td>26281</td>\n",
       "      <td>NaN</td>\n",
       "      <td>NaN</td>\n",
       "      <td>NaN</td>\n",
       "      <td>0.00764811</td>\n",
       "      <td>0.779041</td>\n",
       "      <td>0</td>\n",
       "      <td>0</td>\n",
       "      <td>0</td>\n",
       "      <td>0</td>\n",
       "      <td>126</td>\n",
       "    </tr>\n",
       "    <tr>\n",
       "      <th>DS_TRANS_3</th>\n",
       "      <td>100</td>\n",
       "      <td>50</td>\n",
       "      <td>6 MESES</td>\n",
       "      <td>18</td>\n",
       "      <td>NaN</td>\n",
       "      <td>NaN</td>\n",
       "      <td>NaN</td>\n",
       "      <td>NaN</td>\n",
       "      <td>NaN</td>\n",
       "      <td>NaN</td>\n",
       "      <td>NaN</td>\n",
       "    </tr>\n",
       "  </tbody>\n",
       "</table>\n",
       "<p>75 rows × 11 columns</p>\n",
       "</div>"
      ],
      "text/plain": [
       "            count unique         top   freq        mean       std     min  \\\n",
       "TP_NOT      47853    NaN         NaN    NaN           2         0       2   \n",
       "ID_AGRAVO   47853      1        B550  47853         NaN       NaN     NaN   \n",
       "DT_NOT      47853   4625  2011-09-05     30         NaN       NaN     NaN   \n",
       "SEMANA_NOT  47853    NaN         NaN    NaN      200979   8228.78     836   \n",
       "ANO         47853    NaN         NaN    NaN     2012.91   3.71685    2007   \n",
       "...           ...    ...         ...    ...         ...       ...     ...   \n",
       "DT_DESLC3      53     50  2018-07-01      2         NaN       NaN     NaN   \n",
       "DS_MUN_3       65    NaN         NaN    NaN      328495   97996.2  110094   \n",
       "CO_UF_3        72    NaN         NaN    NaN     32.4167   9.56335      11   \n",
       "CO_PAIS_3   26281    NaN         NaN    NaN  0.00764811  0.779041       0   \n",
       "DS_TRANS_3    100     50     6 MESES     18         NaN       NaN     NaN   \n",
       "\n",
       "               25%     50%     75%     max  \n",
       "TP_NOT           2       2       2       2  \n",
       "ID_AGRAVO      NaN     NaN     NaN     NaN  \n",
       "DT_NOT         NaN     NaN     NaN     NaN  \n",
       "SEMANA_NOT  201006  201323  201640  202001  \n",
       "ANO           2010    2013    2016    2019  \n",
       "...            ...     ...     ...     ...  \n",
       "DT_DESLC3      NaN     NaN     NaN     NaN  \n",
       "DS_MUN_3    270630  315120  354340  521523  \n",
       "CO_UF_3      27.75      31      35      52  \n",
       "CO_PAIS_3        0       0       0     126  \n",
       "DS_TRANS_3     NaN     NaN     NaN     NaN  \n",
       "\n",
       "[75 rows x 11 columns]"
      ]
     },
     "execution_count": 8,
     "metadata": {},
     "output_type": "execute_result"
    }
   ],
   "source": [
    "confirmados.describe(include='all').T\n",
    "#df.describe().T"
   ]
  },
  {
   "cell_type": "markdown",
   "metadata": {},
   "source": [
    "## Excluindo duplicidades: de acordo com coluna `NDUPLIC_N`\n",
    "- se igual a 2.0, é duplicidade"
   ]
  },
  {
   "cell_type": "code",
   "execution_count": 9,
   "metadata": {},
   "outputs": [
    {
     "name": "stdout",
     "output_type": "stream",
     "text": [
      "23\n"
     ]
    }
   ],
   "source": [
    "print((confirmados.NDUPLIC_N == 2).sum())\n",
    "confirmados.drop(confirmados.loc[confirmados.NDUPLIC_N == 2, :].index, axis=0, inplace=True)"
   ]
  },
  {
   "cell_type": "markdown",
   "metadata": {},
   "source": [
    "## Excluindo colunas desnecessárias"
   ]
  },
  {
   "cell_type": "code",
   "execution_count": 10,
   "metadata": {},
   "outputs": [],
   "source": [
    "confirmados.drop(\n",
    "    ['CS_FLXRET', 'FLXRECEBI', 'MIGRADO_W', 'NDUPLIC_N', \n",
    "     'TP_NOT', 'ID_REGIONA', 'ID_RG_RESI', 'ID_AGRAVO', 'CLASSI_FIN'\n",
    "    ],\n",
    "    axis=1,\n",
    "    inplace=True\n",
    ")"
   ]
  },
  {
   "cell_type": "markdown",
   "metadata": {},
   "source": [
    "## Base `confirmados`\n",
    "\n",
    "Tem vários testes de consistência a serem feitos, mas o mais essencial é definir uma parcela de dados o mais confiável possível para analisar.\n",
    "\n",
    "Campos importantes: \n",
    "Alguns campos são importantes para cálculo de alguns indicadores, entretanto há valores faltantes que limitam os dados para cálculo.\n",
    "\n",
    "- `ENTRADA` se o caso é novo ou rescidiva.\n",
    "- `CO_MN_INF`, `CO_UF_INF` (local de infecção)\n",
    "- `CO_MN_RESI`, `CO_UF_RESI` (local residencia)\n",
    "\n",
    "Nenhuma amostra foi excluída, apenas os 23 campos supostamente duplicados, indicados pela coluna `NDUPLIC_N`.\n",
    "Também foram desconsideradas, por enquanto, as amostras de casos descartados (CLASSI_FIN = 2)\n",
    "\n",
    "Como não é possível, a princípio, imputar esses dados faltantes por falta de conhecimento dos sistemas que alimentam a base as linhas que possuem esses dados faltantes também serão desconsideradas."
   ]
  },
  {
   "cell_type": "markdown",
   "metadata": {},
   "source": [
    "`ENTRADA`\n",
    "\n",
    "Questionamento: o que significa o valor transferência (3), em `ENTRADA`?\n",
    "Seria um caso notificado em um local e o tratamento transferido para outro local?\n",
    "Neste caso faz-se outra notificação no local atual de tratamento e teríamos duas p/ msm caso?\n",
    "Ou atualizam alguns campos da notificação?\n",
    "\n",
    "- 1: caso novo; \n",
    "- 2: rescidiva; \n",
    "- 3: transferência; \n",
    "- 9: ignorado.\n",
    "\n",
    "Por enquanto serão desconsideradas amostras com entrada diferente de 1 ou 2."
   ]
  },
  {
   "cell_type": "code",
   "execution_count": 11,
   "metadata": {},
   "outputs": [
    {
     "data": {
      "text/plain": [
       "1.0    43291\n",
       "2.0     2214\n",
       "9.0      846\n",
       "NaN      748\n",
       "3.0      731\n",
       "Name: ENTRADA, dtype: int64"
      ]
     },
     "execution_count": 11,
     "metadata": {},
     "output_type": "execute_result"
    }
   ],
   "source": [
    "confirmados.ENTRADA.value_counts(dropna=False)"
   ]
  },
  {
   "cell_type": "code",
   "execution_count": 15,
   "metadata": {},
   "outputs": [],
   "source": [
    "confirmados = confirmados.loc[(confirmados.ENTRADA == 1) | (confirmados.ENTRADA == 2), :].copy()"
   ]
  },
  {
   "cell_type": "markdown",
   "metadata": {},
   "source": [
    "`CO_MN_INF`, `CO_UF_INF`\n",
    "\n",
    "Podemos corrigir algumas inconsistências nos locais de infecção considerando o campo `TPAUTOCTO`\n",
    "\n",
    "Casos autóctones, alóctones ou indeterminados: `TPAUTOCTO`\n",
    "Ex.:\n",
    "- `TPAUTOCTO` é 1, `COMUNINF` e `COUFINF` são nulos: imputa com msm local de residência\n",
    "- `TPAUTOCTO` é 2, mas `COMUNINF` e `COUFINF` são iguais aos de residência: \n",
    "    - poderia atualizar autoctonia para `1`, mas não é adequado fazer essa alteração. \n",
    "- `TPAUTOCTO` é nulo e `COMUNINF` e `COUFINF` são iguais aos de residência: imputa autoctonia com `1`\n",
    "\n",
    "Não serão feitas essas alterações porque são arriscadas a princípio. Requer mais conhecimento da base e sistemas que a alimentam."
   ]
  },
  {
   "cell_type": "code",
   "execution_count": 16,
   "metadata": {},
   "outputs": [],
   "source": [
    "confirmados = confirmados.loc[~(confirmados.CO_MN_INF.isnull()), :].copy()"
   ]
  },
  {
   "cell_type": "markdown",
   "metadata": {},
   "source": [
    "`CO_MN_RESI`, `CO_UF_RESI`\n"
   ]
  },
  {
   "cell_type": "code",
   "execution_count": 17,
   "metadata": {},
   "outputs": [
    {
     "data": {
      "text/plain": [
       "(0, 66)"
      ]
     },
     "execution_count": 17,
     "metadata": {},
     "output_type": "execute_result"
    }
   ],
   "source": [
    "confirmados.loc[(confirmados.CO_MN_RESI.isnull()), :].shape"
   ]
  },
  {
   "cell_type": "code",
   "execution_count": 18,
   "metadata": {},
   "outputs": [
    {
     "name": "stdout",
     "output_type": "stream",
     "text": [
      "O conjunto de amostras foi reduzido de 47853 para 41438\n"
     ]
    }
   ],
   "source": [
    "print(f'O conjunto de amostras foi reduzido de 47853 para {confirmados.shape[0]}')"
   ]
  },
  {
   "cell_type": "markdown",
   "metadata": {},
   "source": [
    "### corrigindo algumas inconsistências\n",
    "\n",
    "- converter datas para datetime"
   ]
  },
  {
   "cell_type": "code",
   "execution_count": 19,
   "metadata": {
    "scrolled": true
   },
   "outputs": [
    {
     "data": {
      "text/html": [
       "<div>\n",
       "<style scoped>\n",
       "    .dataframe tbody tr th:only-of-type {\n",
       "        vertical-align: middle;\n",
       "    }\n",
       "\n",
       "    .dataframe tbody tr th {\n",
       "        vertical-align: top;\n",
       "    }\n",
       "\n",
       "    .dataframe thead th {\n",
       "        text-align: right;\n",
       "    }\n",
       "</style>\n",
       "<table border=\"1\" class=\"dataframe\">\n",
       "  <thead>\n",
       "    <tr style=\"text-align: right;\">\n",
       "      <th></th>\n",
       "      <th>TRATAMENTO</th>\n",
       "      <th>DT_NOT</th>\n",
       "      <th>DT_PRI_SIN</th>\n",
       "      <th>DT_NASC</th>\n",
       "      <th>DT_INVEST</th>\n",
       "      <th>DT_OBITO</th>\n",
       "      <th>DT_ENCERRAMENTO</th>\n",
       "      <th>DT_DESLC1</th>\n",
       "      <th>DT_DESLC2</th>\n",
       "      <th>DT_DESLC3</th>\n",
       "    </tr>\n",
       "  </thead>\n",
       "  <tbody>\n",
       "    <tr>\n",
       "      <th>4971</th>\n",
       "      <td>2012-04-24</td>\n",
       "      <td>2012-03-28</td>\n",
       "      <td>2012-03-13</td>\n",
       "      <td>1981-05-09</td>\n",
       "      <td>2012-04-24</td>\n",
       "      <td>NaN</td>\n",
       "      <td>2012-04-24</td>\n",
       "      <td>2011-09-15</td>\n",
       "      <td>211-10-10</td>\n",
       "      <td>2012-01-09</td>\n",
       "    </tr>\n",
       "    <tr>\n",
       "      <th>33592</th>\n",
       "      <td>2015-08-21</td>\n",
       "      <td>2015-08-21</td>\n",
       "      <td>2015-08-18</td>\n",
       "      <td>2014-10-22</td>\n",
       "      <td>2015-08-21</td>\n",
       "      <td>NaN</td>\n",
       "      <td>2015-09-29</td>\n",
       "      <td>2014-10-22</td>\n",
       "      <td>205-06-01</td>\n",
       "      <td>NaN</td>\n",
       "    </tr>\n",
       "  </tbody>\n",
       "</table>\n",
       "</div>"
      ],
      "text/plain": [
       "       TRATAMENTO      DT_NOT  DT_PRI_SIN     DT_NASC   DT_INVEST DT_OBITO  \\\n",
       "4971   2012-04-24  2012-03-28  2012-03-13  1981-05-09  2012-04-24      NaN   \n",
       "33592  2015-08-21  2015-08-21  2015-08-18  2014-10-22  2015-08-21      NaN   \n",
       "\n",
       "      DT_ENCERRAMENTO   DT_DESLC1  DT_DESLC2   DT_DESLC3  \n",
       "4971       2012-04-24  2011-09-15  211-10-10  2012-01-09  \n",
       "33592      2015-09-29  2014-10-22  205-06-01         NaN  "
      ]
     },
     "metadata": {},
     "output_type": "display_data"
    },
    {
     "data": {
      "text/html": [
       "<div>\n",
       "<style scoped>\n",
       "    .dataframe tbody tr th:only-of-type {\n",
       "        vertical-align: middle;\n",
       "    }\n",
       "\n",
       "    .dataframe tbody tr th {\n",
       "        vertical-align: top;\n",
       "    }\n",
       "\n",
       "    .dataframe thead th {\n",
       "        text-align: right;\n",
       "    }\n",
       "</style>\n",
       "<table border=\"1\" class=\"dataframe\">\n",
       "  <thead>\n",
       "    <tr style=\"text-align: right;\">\n",
       "      <th></th>\n",
       "      <th>TRATAMENTO</th>\n",
       "      <th>DT_NOT</th>\n",
       "      <th>DT_PRI_SIN</th>\n",
       "      <th>DT_NASC</th>\n",
       "      <th>DT_INVEST</th>\n",
       "      <th>DT_OBITO</th>\n",
       "      <th>DT_ENCERRAMENTO</th>\n",
       "      <th>DT_DESLC1</th>\n",
       "      <th>DT_DESLC2</th>\n",
       "      <th>DT_DESLC3</th>\n",
       "    </tr>\n",
       "  </thead>\n",
       "  <tbody>\n",
       "    <tr>\n",
       "      <th>4971</th>\n",
       "      <td>2012-04-24</td>\n",
       "      <td>2012-03-28</td>\n",
       "      <td>2012-03-13</td>\n",
       "      <td>1981-05-09</td>\n",
       "      <td>2012-04-24</td>\n",
       "      <td>NaN</td>\n",
       "      <td>2012-04-24</td>\n",
       "      <td>2011-09-15</td>\n",
       "      <td>NaN</td>\n",
       "      <td>2012-01-09</td>\n",
       "    </tr>\n",
       "    <tr>\n",
       "      <th>33592</th>\n",
       "      <td>2015-08-21</td>\n",
       "      <td>2015-08-21</td>\n",
       "      <td>2015-08-18</td>\n",
       "      <td>2014-10-22</td>\n",
       "      <td>2015-08-21</td>\n",
       "      <td>NaN</td>\n",
       "      <td>2015-09-29</td>\n",
       "      <td>2014-10-22</td>\n",
       "      <td>NaN</td>\n",
       "      <td>NaN</td>\n",
       "    </tr>\n",
       "  </tbody>\n",
       "</table>\n",
       "</div>"
      ],
      "text/plain": [
       "       TRATAMENTO      DT_NOT  DT_PRI_SIN     DT_NASC   DT_INVEST DT_OBITO  \\\n",
       "4971   2012-04-24  2012-03-28  2012-03-13  1981-05-09  2012-04-24      NaN   \n",
       "33592  2015-08-21  2015-08-21  2015-08-18  2014-10-22  2015-08-21      NaN   \n",
       "\n",
       "      DT_ENCERRAMENTO   DT_DESLC1 DT_DESLC2   DT_DESLC3  \n",
       "4971       2012-04-24  2011-09-15       NaN  2012-01-09  \n",
       "33592      2015-09-29  2014-10-22       NaN         NaN  "
      ]
     },
     "metadata": {},
     "output_type": "display_data"
    }
   ],
   "source": [
    "# erro durante conversão para datetime (data incompleta). achar o index dos valores problemáticos e imputar.\n",
    "\n",
    "datas = ['TRATAMENTO','DT_NOT', 'DT_PRI_SIN', 'DT_NASC', 'DT_INVEST', 'DT_OBITO', 'DT_ENCERRAMENTO', 'DT_DESLC1', 'DT_DESLC2', 'DT_DESLC3']\n",
    "\n",
    "locs = {}\n",
    "for col in datas:\n",
    "    if (confirmados[col].str.len() < 10).any():\n",
    "        idx = confirmados.loc[confirmados[col].str.len() < 10, :].index.values.tolist()\n",
    "        for i in idx:\n",
    "            locs.update({i: col})\n",
    "\n",
    "display(confirmados.loc[locs.keys(), datas])\n",
    "\n",
    "for k,v in locs.items():\n",
    "    confirmados.loc[k, v] = np.nan\n",
    "    \n",
    "display(confirmados.loc[locs.keys(), datas])\n",
    "\n",
    "# converte para datetime\n",
    "confirmados[datas] = confirmados[datas].apply(lambda x: pd.to_datetime(x), axis=1)"
   ]
  },
  {
   "cell_type": "code",
   "execution_count": 20,
   "metadata": {},
   "outputs": [
    {
     "name": "stdout",
     "output_type": "stream",
     "text": [
      "('SEMANA_NOT', True)\n",
      "('SEMANA_PRI_SIN', True)\n",
      "('ANO', False)\n",
      "('CO_MN_NOT', False)\n",
      "('CO_MN_RESI', False)\n",
      "('CO_MN_INF', True)\n"
     ]
    }
   ],
   "source": [
    "print(\n",
    "    ('SEMANA_NOT', (confirmados.SEMANA_NOT.astype('string').str.len() != 6).any()),\n",
    "    ('SEMANA_PRI_SIN', (confirmados.SEMANA_PRI_SIN.astype('string').str.len() != 6).any()),\n",
    "    ('ANO', (confirmados.ANO.astype('string').str.len() != 4).any()),\n",
    "    ('CO_MN_NOT', (confirmados.CO_MN_NOT.astype('string').str.len() != 6).any()),\n",
    "    ('CO_MN_RESI', (confirmados.CO_MN_RESI.astype('string').str.len() != 6).any()),\n",
    "    ('CO_MN_INF', (confirmados.CO_MN_INF.astype('string').str.len() != 6).any()),\n",
    "    sep='\\n'\n",
    ")  "
   ]
  },
  {
   "cell_type": "markdown",
   "metadata": {},
   "source": [
    "inconsistência simples de resolver, algumas semanas estão apenas com o final do ano concatenado à semana epidemiológica. Basta concatenar o ano com o final da coluna `SEMANA_NOT` "
   ]
  },
  {
   "cell_type": "code",
   "execution_count": 21,
   "metadata": {},
   "outputs": [
    {
     "data": {
      "text/html": [
       "<div>\n",
       "<style scoped>\n",
       "    .dataframe tbody tr th:only-of-type {\n",
       "        vertical-align: middle;\n",
       "    }\n",
       "\n",
       "    .dataframe tbody tr th {\n",
       "        vertical-align: top;\n",
       "    }\n",
       "\n",
       "    .dataframe thead th {\n",
       "        text-align: right;\n",
       "    }\n",
       "</style>\n",
       "<table border=\"1\" class=\"dataframe\">\n",
       "  <thead>\n",
       "    <tr style=\"text-align: right;\">\n",
       "      <th></th>\n",
       "      <th>DT_PRI_SIN</th>\n",
       "      <th>SEMANA_PRI_SIN</th>\n",
       "    </tr>\n",
       "  </thead>\n",
       "  <tbody>\n",
       "    <tr>\n",
       "      <th>1011</th>\n",
       "      <td>2010-10-18</td>\n",
       "      <td>1042</td>\n",
       "    </tr>\n",
       "    <tr>\n",
       "      <th>2868</th>\n",
       "      <td>2014-04-01</td>\n",
       "      <td>1414</td>\n",
       "    </tr>\n",
       "    <tr>\n",
       "      <th>2902</th>\n",
       "      <td>2014-01-25</td>\n",
       "      <td>1404</td>\n",
       "    </tr>\n",
       "    <tr>\n",
       "      <th>4611</th>\n",
       "      <td>2012-08-24</td>\n",
       "      <td>1234</td>\n",
       "    </tr>\n",
       "    <tr>\n",
       "      <th>8582</th>\n",
       "      <td>2019-10-12</td>\n",
       "      <td>1941</td>\n",
       "    </tr>\n",
       "  </tbody>\n",
       "</table>\n",
       "</div>"
      ],
      "text/plain": [
       "     DT_PRI_SIN  SEMANA_PRI_SIN\n",
       "1011 2010-10-18            1042\n",
       "2868 2014-04-01            1414\n",
       "2902 2014-01-25            1404\n",
       "4611 2012-08-24            1234\n",
       "8582 2019-10-12            1941"
      ]
     },
     "execution_count": 21,
     "metadata": {},
     "output_type": "execute_result"
    }
   ],
   "source": [
    "#confirmados.loc[confirmados.SEMANA_NOT.astype('string').str.len() != 6, ['ANO','SEMANA_NOT']].head()\n",
    "confirmados.loc[confirmados.SEMANA_PRI_SIN.astype('string').str.len() != 6, ['DT_PRI_SIN','SEMANA_PRI_SIN']].head()"
   ]
  },
  {
   "cell_type": "code",
   "execution_count": 22,
   "metadata": {},
   "outputs": [],
   "source": [
    "confirmados.SEMANA_PRI_SIN = (\n",
    "    confirmados.DT_PRI_SIN.dt.year.astype('string') + \n",
    "    confirmados.SEMANA_PRI_SIN.apply(lambda x: str(x)[-2:])\n",
    ")\n",
    "\n",
    "\n",
    "confirmados.SEMANA_NOT = confirmados.ANO.astype('string') + confirmados.SEMANA_NOT.apply(lambda x: str(x)[-2:])"
   ]
  },
  {
   "cell_type": "code",
   "execution_count": 23,
   "metadata": {},
   "outputs": [
    {
     "name": "stdout",
     "output_type": "stream",
     "text": [
      "('total nulos', 0) ('tipo', dtype('float64'))\n"
     ]
    }
   ],
   "source": [
    "print(\n",
    "    ('total nulos', confirmados.CO_MN_INF.isnull().sum()),\n",
    "    ('tipo', confirmados.CO_MN_INF.dtype)\n",
    ")\n",
    "confirmados.CO_MN_INF = confirmados.CO_MN_INF.astype(int).astype('string')"
   ]
  },
  {
   "cell_type": "markdown",
   "metadata": {},
   "source": [
    "### - editando códigos de municípios transferidos (GO p/ TO)\n",
    "\n",
    "- alguns municípios que foram transferidos para TO, que eram de GO, estão com o código antigo, logo são inexistentes.  "
   ]
  },
  {
   "cell_type": "code",
   "execution_count": 24,
   "metadata": {},
   "outputs": [],
   "source": [
    "transferidos = {'520040': 'almas',\n",
    " '520070': 'alvorada',\n",
    " '520100': 'ananás',\n",
    " '520190': 'araguacema',\n",
    " '520200': 'araguaçu',\n",
    " '520210': 'araguaína',\n",
    " '520220': 'araguatins',\n",
    " '520230': 'arapoema',\n",
    " '520240': 'arraias',\n",
    " '520255': 'augustinópolis',\n",
    " '520270': 'aurora do norte',\n",
    " '520290': 'axixá de goiás',\n",
    " '520300': 'babaçulândia',\n",
    " '520370': 'brejinho de nazaré',\n",
    " '520550': 'colinas de goiás',\n",
    " '521670': 'colméia',\n",
    " '520560': 'conceição do norte',\n",
    " '520600': 'couto de magalhães',\n",
    " '520610': 'cristalândia',\n",
    " '520700': 'dianópolis',\n",
    " '520720': 'dois irmãos',\n",
    " '520730': 'dueré',\n",
    " '520755': 'fátima',\n",
    " '520765': 'figueirópolis',\n",
    " '520770': 'filadélfia',\n",
    " '520820': 'formoso do araguaia',\n",
    " '520900': 'goiatins',\n",
    " '520930': 'guaraí',\n",
    " '520950': 'gurupi',\n",
    " '521050': 'itacajá',\n",
    " '521070': 'itaguatins',\n",
    " '521110': 'itaporã de goiás',\n",
    " '521240': 'lizarda',\n",
    " '521320': 'miracema do norte',\n",
    " '521330': 'miranorte',\n",
    " '521360': 'monte do carmo',\n",
    " '521420': 'natividade',\n",
    " '521430': 'nazaré',\n",
    " '521488': 'nova olinda',\n",
    " '521510': 'novo acordo',\n",
    " '521575': 'palmeirópolis',\n",
    " '521610': 'paraíso do norte de goiás',\n",
    " '521620': 'paranã',\n",
    " '521650': 'pedro afonso',\n",
    " '521660': 'peixe',\n",
    " '521700': 'pindorama de goiás',\n",
    " '521750': 'pium',\n",
    " '521780': 'ponte alta do bom jesus',\n",
    " '521790': 'ponte alta do norte',\n",
    " '521820': 'porto nacional',\n",
    " '521840': 'presidente kennedy',\n",
    " '521875': 'rio sono',\n",
    " '522030': 'são sebastião do tocantins',\n",
    " '522065': 'silvanópolis',\n",
    " '522080': 'sítio novo de goiás',\n",
    " '522090': 'taguatinga',\n",
    " '522110': 'tocantínia',\n",
    " '522120': 'tocantinópolis',\n",
    " '522208': 'wanderlândia',\n",
    " '522210': 'xambioá'}"
   ]
  },
  {
   "cell_type": "code",
   "execution_count": 25,
   "metadata": {},
   "outputs": [
    {
     "data": {
      "text/html": [
       "<div>\n",
       "<style scoped>\n",
       "    .dataframe tbody tr th:only-of-type {\n",
       "        vertical-align: middle;\n",
       "    }\n",
       "\n",
       "    .dataframe tbody tr th {\n",
       "        vertical-align: top;\n",
       "    }\n",
       "\n",
       "    .dataframe thead th {\n",
       "        text-align: right;\n",
       "    }\n",
       "</style>\n",
       "<table border=\"1\" class=\"dataframe\">\n",
       "  <thead>\n",
       "    <tr style=\"text-align: right;\">\n",
       "      <th></th>\n",
       "      <th>DT_NOT</th>\n",
       "      <th>SEMANA_NOT</th>\n",
       "      <th>ANO</th>\n",
       "      <th>CO_UF_NOT</th>\n",
       "      <th>CO_MN_NOT</th>\n",
       "      <th>DT_PRI_SIN</th>\n",
       "      <th>SEMANA_PRI_SIN</th>\n",
       "      <th>DT_NASC</th>\n",
       "      <th>NU_IDADE_N</th>\n",
       "      <th>CS_SEXO</th>\n",
       "      <th>...</th>\n",
       "      <th>DT_DESLC2</th>\n",
       "      <th>DS_MUN_2</th>\n",
       "      <th>CO_UF_2</th>\n",
       "      <th>CO_PAIS_2</th>\n",
       "      <th>DS_TRANS_2</th>\n",
       "      <th>DT_DESLC3</th>\n",
       "      <th>DS_MUN_3</th>\n",
       "      <th>CO_UF_3</th>\n",
       "      <th>CO_PAIS_3</th>\n",
       "      <th>DS_TRANS_3</th>\n",
       "    </tr>\n",
       "  </thead>\n",
       "  <tbody>\n",
       "    <tr>\n",
       "      <th>39294</th>\n",
       "      <td>2010-07-21</td>\n",
       "      <td>201029</td>\n",
       "      <td>2010</td>\n",
       "      <td>31</td>\n",
       "      <td>317020</td>\n",
       "      <td>2010-07-10</td>\n",
       "      <td>201027</td>\n",
       "      <td>1996-09-19</td>\n",
       "      <td>4013</td>\n",
       "      <td>F</td>\n",
       "      <td>...</td>\n",
       "      <td>NaT</td>\n",
       "      <td>NaN</td>\n",
       "      <td>NaN</td>\n",
       "      <td>0.0</td>\n",
       "      <td>NaN</td>\n",
       "      <td>NaT</td>\n",
       "      <td>NaN</td>\n",
       "      <td>NaN</td>\n",
       "      <td>0.0</td>\n",
       "      <td>NaN</td>\n",
       "    </tr>\n",
       "    <tr>\n",
       "      <th>70637</th>\n",
       "      <td>2007-08-24</td>\n",
       "      <td>200734</td>\n",
       "      <td>2007</td>\n",
       "      <td>52</td>\n",
       "      <td>520870</td>\n",
       "      <td>2007-06-24</td>\n",
       "      <td>200726</td>\n",
       "      <td>2001-08-20</td>\n",
       "      <td>4005</td>\n",
       "      <td>F</td>\n",
       "      <td>...</td>\n",
       "      <td>NaT</td>\n",
       "      <td>NaN</td>\n",
       "      <td>NaN</td>\n",
       "      <td>NaN</td>\n",
       "      <td>NaN</td>\n",
       "      <td>NaT</td>\n",
       "      <td>NaN</td>\n",
       "      <td>NaN</td>\n",
       "      <td>NaN</td>\n",
       "      <td>NaN</td>\n",
       "    </tr>\n",
       "    <tr>\n",
       "      <th>71364</th>\n",
       "      <td>2019-09-09</td>\n",
       "      <td>201937</td>\n",
       "      <td>2019</td>\n",
       "      <td>52</td>\n",
       "      <td>520870</td>\n",
       "      <td>2019-07-06</td>\n",
       "      <td>201927</td>\n",
       "      <td>1946-11-08</td>\n",
       "      <td>4072</td>\n",
       "      <td>M</td>\n",
       "      <td>...</td>\n",
       "      <td>NaT</td>\n",
       "      <td>NaN</td>\n",
       "      <td>NaN</td>\n",
       "      <td>NaN</td>\n",
       "      <td>NaN</td>\n",
       "      <td>NaT</td>\n",
       "      <td>NaN</td>\n",
       "      <td>NaN</td>\n",
       "      <td>NaN</td>\n",
       "      <td>NaN</td>\n",
       "    </tr>\n",
       "    <tr>\n",
       "      <th>96609</th>\n",
       "      <td>2012-08-01</td>\n",
       "      <td>201231</td>\n",
       "      <td>2012</td>\n",
       "      <td>52</td>\n",
       "      <td>520870</td>\n",
       "      <td>2012-07-11</td>\n",
       "      <td>201228</td>\n",
       "      <td>1985-10-23</td>\n",
       "      <td>4026</td>\n",
       "      <td>F</td>\n",
       "      <td>...</td>\n",
       "      <td>NaT</td>\n",
       "      <td>NaN</td>\n",
       "      <td>NaN</td>\n",
       "      <td>0.0</td>\n",
       "      <td>NaN</td>\n",
       "      <td>NaT</td>\n",
       "      <td>NaN</td>\n",
       "      <td>NaN</td>\n",
       "      <td>0.0</td>\n",
       "      <td>NaN</td>\n",
       "    </tr>\n",
       "  </tbody>\n",
       "</table>\n",
       "<p>4 rows × 66 columns</p>\n",
       "</div>"
      ],
      "text/plain": [
       "          DT_NOT SEMANA_NOT   ANO  CO_UF_NOT  CO_MN_NOT DT_PRI_SIN  \\\n",
       "39294 2010-07-21     201029  2010         31     317020 2010-07-10   \n",
       "70637 2007-08-24     200734  2007         52     520870 2007-06-24   \n",
       "71364 2019-09-09     201937  2019         52     520870 2019-07-06   \n",
       "96609 2012-08-01     201231  2012         52     520870 2012-07-11   \n",
       "\n",
       "      SEMANA_PRI_SIN    DT_NASC  NU_IDADE_N CS_SEXO  ...  DT_DESLC2  DS_MUN_2  \\\n",
       "39294         201027 1996-09-19        4013       F  ...        NaT       NaN   \n",
       "70637         200726 2001-08-20        4005       F  ...        NaT       NaN   \n",
       "71364         201927 1946-11-08        4072       M  ...        NaT       NaN   \n",
       "96609         201228 1985-10-23        4026       F  ...        NaT       NaN   \n",
       "\n",
       "       CO_UF_2  CO_PAIS_2  DS_TRANS_2  DT_DESLC3 DS_MUN_3 CO_UF_3  CO_PAIS_3  \\\n",
       "39294      NaN        0.0         NaN        NaT      NaN     NaN        0.0   \n",
       "70637      NaN        NaN         NaN        NaT      NaN     NaN        NaN   \n",
       "71364      NaN        NaN         NaN        NaT      NaN     NaN        NaN   \n",
       "96609      NaN        0.0         NaN        NaT      NaN     NaN        0.0   \n",
       "\n",
       "       DS_TRANS_3  \n",
       "39294         NaN  \n",
       "70637         NaN  \n",
       "71364         NaN  \n",
       "96609         NaN  \n",
       "\n",
       "[4 rows x 66 columns]"
      ]
     },
     "execution_count": 25,
     "metadata": {},
     "output_type": "execute_result"
    }
   ],
   "source": [
    "confirmados.loc[~confirmados.CO_MN_INF.map(transferidos).isnull(), :]"
   ]
  },
  {
   "cell_type": "code",
   "execution_count": 26,
   "metadata": {},
   "outputs": [],
   "source": [
    "idx = confirmados.loc[~confirmados.CO_MN_INF.map(transferidos).isnull(), :].index\n",
    "confirmados.loc[idx, 'CO_MN_INF'] = confirmados.loc[idx, 'CO_MN_INF'].apply(lambda x: x.replace('52', '17'))"
   ]
  },
  {
   "cell_type": "code",
   "execution_count": 27,
   "metadata": {},
   "outputs": [
    {
     "data": {
      "text/html": [
       "<div>\n",
       "<style scoped>\n",
       "    .dataframe tbody tr th:only-of-type {\n",
       "        vertical-align: middle;\n",
       "    }\n",
       "\n",
       "    .dataframe tbody tr th {\n",
       "        vertical-align: top;\n",
       "    }\n",
       "\n",
       "    .dataframe thead th {\n",
       "        text-align: right;\n",
       "    }\n",
       "</style>\n",
       "<table border=\"1\" class=\"dataframe\">\n",
       "  <thead>\n",
       "    <tr style=\"text-align: right;\">\n",
       "      <th></th>\n",
       "      <th>DT_NOT</th>\n",
       "      <th>SEMANA_NOT</th>\n",
       "      <th>ANO</th>\n",
       "      <th>CO_UF_NOT</th>\n",
       "      <th>CO_MN_NOT</th>\n",
       "      <th>DT_PRI_SIN</th>\n",
       "      <th>SEMANA_PRI_SIN</th>\n",
       "      <th>DT_NASC</th>\n",
       "      <th>NU_IDADE_N</th>\n",
       "      <th>CS_SEXO</th>\n",
       "      <th>...</th>\n",
       "      <th>DT_DESLC2</th>\n",
       "      <th>DS_MUN_2</th>\n",
       "      <th>CO_UF_2</th>\n",
       "      <th>CO_PAIS_2</th>\n",
       "      <th>DS_TRANS_2</th>\n",
       "      <th>DT_DESLC3</th>\n",
       "      <th>DS_MUN_3</th>\n",
       "      <th>CO_UF_3</th>\n",
       "      <th>CO_PAIS_3</th>\n",
       "      <th>DS_TRANS_3</th>\n",
       "    </tr>\n",
       "  </thead>\n",
       "  <tbody>\n",
       "  </tbody>\n",
       "</table>\n",
       "<p>0 rows × 66 columns</p>\n",
       "</div>"
      ],
      "text/plain": [
       "Empty DataFrame\n",
       "Columns: [DT_NOT, SEMANA_NOT, ANO, CO_UF_NOT, CO_MN_NOT, DT_PRI_SIN, SEMANA_PRI_SIN, DT_NASC, NU_IDADE_N, CS_SEXO, CS_GESTANT, CS_RACA, CS_ESCOL_N, CO_UF_RESI, CO_MN_RESI, CO_PAIS, DT_INVEST, ID_OCUPA_N, FEBRE, FRAQUEZA, EDEMA, EMAGRECIMENTO, TOSSE, PALIDEZ, BACO, INFECCIOSO, FEN_HEMORR, FIGADO, ICTERICIA, OUTROS, OUTROS_ESP, HIV, DIAG_PARASITOLOGICO, IFI, OUTRO, ENTRADA, TRATAMENTO, DROGA, PESO, DOSE, AMPOLAS, FALENCIA, CRITERIO, TPAUTOCTO, CO_UF_INF, CO_PAIS_INF, CO_MN_INF, DOENCA_TRABALHO, EVOLUCAO, DT_OBITO, DT_ENCERRAMENTO, DT_DESLC1, DS_MUN_1, CO_UF_1, CO_PAIS_1, DS_TRANS_1, DT_DESLC2, DS_MUN_2, CO_UF_2, CO_PAIS_2, DS_TRANS_2, DT_DESLC3, DS_MUN_3, CO_UF_3, CO_PAIS_3, DS_TRANS_3]\n",
       "Index: []\n",
       "\n",
       "[0 rows x 66 columns]"
      ]
     },
     "execution_count": 27,
     "metadata": {},
     "output_type": "execute_result"
    }
   ],
   "source": [
    "confirmados.loc[~confirmados.CO_MN_RESI.map(transferidos).isnull(), :]"
   ]
  },
  {
   "cell_type": "code",
   "execution_count": 28,
   "metadata": {},
   "outputs": [
    {
     "data": {
      "text/html": [
       "<div>\n",
       "<style scoped>\n",
       "    .dataframe tbody tr th:only-of-type {\n",
       "        vertical-align: middle;\n",
       "    }\n",
       "\n",
       "    .dataframe tbody tr th {\n",
       "        vertical-align: top;\n",
       "    }\n",
       "\n",
       "    .dataframe thead th {\n",
       "        text-align: right;\n",
       "    }\n",
       "</style>\n",
       "<table border=\"1\" class=\"dataframe\">\n",
       "  <thead>\n",
       "    <tr style=\"text-align: right;\">\n",
       "      <th></th>\n",
       "      <th>DT_NOT</th>\n",
       "      <th>SEMANA_NOT</th>\n",
       "      <th>ANO</th>\n",
       "      <th>CO_UF_NOT</th>\n",
       "      <th>CO_MN_NOT</th>\n",
       "      <th>DT_PRI_SIN</th>\n",
       "      <th>SEMANA_PRI_SIN</th>\n",
       "      <th>DT_NASC</th>\n",
       "      <th>NU_IDADE_N</th>\n",
       "      <th>CS_SEXO</th>\n",
       "      <th>...</th>\n",
       "      <th>DT_DESLC2</th>\n",
       "      <th>DS_MUN_2</th>\n",
       "      <th>CO_UF_2</th>\n",
       "      <th>CO_PAIS_2</th>\n",
       "      <th>DS_TRANS_2</th>\n",
       "      <th>DT_DESLC3</th>\n",
       "      <th>DS_MUN_3</th>\n",
       "      <th>CO_UF_3</th>\n",
       "      <th>CO_PAIS_3</th>\n",
       "      <th>DS_TRANS_3</th>\n",
       "    </tr>\n",
       "  </thead>\n",
       "  <tbody>\n",
       "  </tbody>\n",
       "</table>\n",
       "<p>0 rows × 66 columns</p>\n",
       "</div>"
      ],
      "text/plain": [
       "Empty DataFrame\n",
       "Columns: [DT_NOT, SEMANA_NOT, ANO, CO_UF_NOT, CO_MN_NOT, DT_PRI_SIN, SEMANA_PRI_SIN, DT_NASC, NU_IDADE_N, CS_SEXO, CS_GESTANT, CS_RACA, CS_ESCOL_N, CO_UF_RESI, CO_MN_RESI, CO_PAIS, DT_INVEST, ID_OCUPA_N, FEBRE, FRAQUEZA, EDEMA, EMAGRECIMENTO, TOSSE, PALIDEZ, BACO, INFECCIOSO, FEN_HEMORR, FIGADO, ICTERICIA, OUTROS, OUTROS_ESP, HIV, DIAG_PARASITOLOGICO, IFI, OUTRO, ENTRADA, TRATAMENTO, DROGA, PESO, DOSE, AMPOLAS, FALENCIA, CRITERIO, TPAUTOCTO, CO_UF_INF, CO_PAIS_INF, CO_MN_INF, DOENCA_TRABALHO, EVOLUCAO, DT_OBITO, DT_ENCERRAMENTO, DT_DESLC1, DS_MUN_1, CO_UF_1, CO_PAIS_1, DS_TRANS_1, DT_DESLC2, DS_MUN_2, CO_UF_2, CO_PAIS_2, DS_TRANS_2, DT_DESLC3, DS_MUN_3, CO_UF_3, CO_PAIS_3, DS_TRANS_3]\n",
       "Index: []\n",
       "\n",
       "[0 rows x 66 columns]"
      ]
     },
     "execution_count": 28,
     "metadata": {},
     "output_type": "execute_result"
    }
   ],
   "source": [
    "confirmados.loc[~confirmados.CO_MN_NOT.map(transferidos).isnull(), :]"
   ]
  },
  {
   "cell_type": "markdown",
   "metadata": {},
   "source": [
    "### criando a coluna idade \n",
    "\n",
    "- idade na data de notificação "
   ]
  },
  {
   "cell_type": "code",
   "execution_count": 29,
   "metadata": {},
   "outputs": [],
   "source": [
    "confirmados['IDADE'] = np.round( (confirmados.DT_NOT - confirmados.DT_NASC) / np.timedelta64('1', 'Y'), 6)"
   ]
  },
  {
   "cell_type": "code",
   "execution_count": 30,
   "metadata": {
    "scrolled": true
   },
   "outputs": [
    {
     "data": {
      "text/html": [
       "<div>\n",
       "<style scoped>\n",
       "    .dataframe tbody tr th:only-of-type {\n",
       "        vertical-align: middle;\n",
       "    }\n",
       "\n",
       "    .dataframe tbody tr th {\n",
       "        vertical-align: top;\n",
       "    }\n",
       "\n",
       "    .dataframe thead th {\n",
       "        text-align: right;\n",
       "    }\n",
       "</style>\n",
       "<table border=\"1\" class=\"dataframe\">\n",
       "  <thead>\n",
       "    <tr style=\"text-align: right;\">\n",
       "      <th></th>\n",
       "      <th>DT_NASC</th>\n",
       "      <th>DT_NOT</th>\n",
       "    </tr>\n",
       "  </thead>\n",
       "  <tbody>\n",
       "    <tr>\n",
       "      <th>16</th>\n",
       "      <td>2012-09-17</td>\n",
       "      <td>2012-10-30</td>\n",
       "    </tr>\n",
       "    <tr>\n",
       "      <th>17</th>\n",
       "      <td>2011-10-05</td>\n",
       "      <td>2012-11-15</td>\n",
       "    </tr>\n",
       "    <tr>\n",
       "      <th>25</th>\n",
       "      <td>1982-12-08</td>\n",
       "      <td>2012-10-26</td>\n",
       "    </tr>\n",
       "    <tr>\n",
       "      <th>28</th>\n",
       "      <td>1989-06-01</td>\n",
       "      <td>2012-06-01</td>\n",
       "    </tr>\n",
       "    <tr>\n",
       "      <th>31</th>\n",
       "      <td>2009-05-01</td>\n",
       "      <td>2012-08-14</td>\n",
       "    </tr>\n",
       "    <tr>\n",
       "      <th>...</th>\n",
       "      <td>...</td>\n",
       "      <td>...</td>\n",
       "    </tr>\n",
       "    <tr>\n",
       "      <th>122485</th>\n",
       "      <td>2012-09-20</td>\n",
       "      <td>2018-04-11</td>\n",
       "    </tr>\n",
       "    <tr>\n",
       "      <th>122490</th>\n",
       "      <td>2016-05-30</td>\n",
       "      <td>2018-03-05</td>\n",
       "    </tr>\n",
       "    <tr>\n",
       "      <th>122493</th>\n",
       "      <td>2017-07-29</td>\n",
       "      <td>2018-08-09</td>\n",
       "    </tr>\n",
       "    <tr>\n",
       "      <th>122495</th>\n",
       "      <td>2015-04-03</td>\n",
       "      <td>2018-06-12</td>\n",
       "    </tr>\n",
       "    <tr>\n",
       "      <th>122496</th>\n",
       "      <td>2016-10-07</td>\n",
       "      <td>2018-06-06</td>\n",
       "    </tr>\n",
       "  </tbody>\n",
       "</table>\n",
       "<p>41438 rows × 2 columns</p>\n",
       "</div>"
      ],
      "text/plain": [
       "          DT_NASC     DT_NOT\n",
       "16     2012-09-17 2012-10-30\n",
       "17     2011-10-05 2012-11-15\n",
       "25     1982-12-08 2012-10-26\n",
       "28     1989-06-01 2012-06-01\n",
       "31     2009-05-01 2012-08-14\n",
       "...           ...        ...\n",
       "122485 2012-09-20 2018-04-11\n",
       "122490 2016-05-30 2018-03-05\n",
       "122493 2017-07-29 2018-08-09\n",
       "122495 2015-04-03 2018-06-12\n",
       "122496 2016-10-07 2018-06-06\n",
       "\n",
       "[41438 rows x 2 columns]"
      ]
     },
     "execution_count": 30,
     "metadata": {},
     "output_type": "execute_result"
    }
   ],
   "source": [
    "confirmados.loc[:, ['DT_NASC', 'DT_NOT']]"
   ]
  },
  {
   "cell_type": "markdown",
   "metadata": {},
   "source": [
    "- algumas idades ficaram nulas pela falta de uma data ou outra, possivelmente a data de nascimento. Entretanto, essas mesmas amostras com essa falta possuem o campo `NU_IDADE_N`, que é preenchido manualmente por quem faz a notificação. Podemos extrair a idade desse campo e preencher as 373 amostras que ficaram sem `IDADE`. \n",
    "    - se começar com 1: idade é dada em **horas**\n",
    "    - se começar com 2: idade é dada em **dias**\n",
    "    - se começar com 3: idade é dada em **meses**\n",
    "    - se começar com 4: idade é dada em **anos**"
   ]
  },
  {
   "cell_type": "code",
   "execution_count": 31,
   "metadata": {},
   "outputs": [],
   "source": [
    "for index, row in confirmados.loc[confirmados.IDADE.isnull(), ['NU_IDADE_N', 'IDADE']].iterrows():\n",
    "    if str(confirmados.loc[index, 'NU_IDADE_N']).startswith('4'):\n",
    "        confirmados.loc[index, 'IDADE'] = int(str(confirmados.loc[index, 'NU_IDADE_N'])[1:])\n",
    "    if str(confirmados.loc[index, 'NU_IDADE_N']).startswith('3'):\n",
    "        confirmados.loc[index, 'IDADE'] = np.round(int(str(confirmados.loc[index, 'NU_IDADE_N'])[1:]) / 12, 6)\n",
    "    if str(confirmados.loc[index, 'NU_IDADE_N']).startswith('2'):\n",
    "        confirmados.loc[index, 'IDADE'] = np.round(int(str(confirmados.loc[index, 'NU_IDADE_N'])[1:]) / 365, 6)"
   ]
  },
  {
   "cell_type": "code",
   "execution_count": 32,
   "metadata": {},
   "outputs": [
    {
     "data": {
      "text/plain": [
       "Series([], Name: NU_IDADE_N, dtype: int64)"
      ]
     },
     "execution_count": 32,
     "metadata": {},
     "output_type": "execute_result"
    }
   ],
   "source": [
    "confirmados.loc[confirmados.IDADE.isnull(), 'NU_IDADE_N']"
   ]
  },
  {
   "cell_type": "markdown",
   "metadata": {},
   "source": [
    "### - excluindo municípios ignorados - terminados em `0000`, cada estado tem um."
   ]
  },
  {
   "cell_type": "code",
   "execution_count": 41,
   "metadata": {},
   "outputs": [
    {
     "data": {
      "text/plain": [
       "32"
      ]
     },
     "execution_count": 41,
     "metadata": {},
     "output_type": "execute_result"
    }
   ],
   "source": [
    "# municipios ignorados: um para cada UF, totalizando 26, termina com '0000'\n",
    "mask = (\n",
    "    confirmados.CO_MN_INF.astype('string').str.endswith('0000') | \n",
    "    confirmados.CO_MN_RESI.astype('string').str.endswith('0000')\n",
    ")\n",
    "mask.sum()"
   ]
  },
  {
   "cell_type": "code",
   "execution_count": 52,
   "metadata": {
    "scrolled": true
   },
   "outputs": [],
   "source": [
    "# municipios ignorados: um para cada UF, totalizando 26, termina com '0000'\n",
    "confirmados.drop(confirmados.index[mask], axis=0, inplace=True)"
   ]
  },
  {
   "cell_type": "markdown",
   "metadata": {},
   "source": [
    "## Dados de deslocamento\n",
    "### Padronizando, limpando os textos"
   ]
  },
  {
   "cell_type": "code",
   "execution_count": 53,
   "metadata": {},
   "outputs": [],
   "source": [
    "def clean_dados_deslocamento(col):\n",
    "    confirmados[col] = confirmados[col].apply(lambda x: ' '.join(str(x).split())) \n",
    "    confirmados[col] = confirmados[col].apply(lambda x: str(x).replace('.', ''))\n",
    "    \n",
    "    confirmados[col] = confirmados[col].astype('string')\n",
    "    confirmados.loc[\n",
    "        (confirmados[col].str.contains('DES')) & \n",
    "        (confirmados[col].str.contains('N')), \n",
    "        col\n",
    "    ] = 'NAO SE DESLOCOU'\n",
    "    \n",
    "    confirmados.loc[\n",
    "        confirmados[col].str.contains('NAO V'),\n",
    "        col\n",
    "    ] = 'NAO SE DESLOCOU'\n",
    "\n",
    "    confirmados.loc[\n",
    "        confirmados[col].str.contains('FRE'),\n",
    "        col\n",
    "    ] = 'FREQUENTEMENTE'\n",
    "\n",
    "    confirmados.loc[\n",
    "        (confirmados[col].str.contains('NAO HOUVE')) | \n",
    "        (confirmados[col].str.endswith('NAO')),\n",
    "        col\n",
    "    ] = 'NAO SE DESLOCOU'\n",
    "    "
   ]
  },
  {
   "cell_type": "code",
   "execution_count": 54,
   "metadata": {},
   "outputs": [
    {
     "data": {
      "text/plain": [
       "[['DS_TRANS_1', 137],\n",
       " ['DS_TRANS_1', 105],\n",
       " ['DS_TRANS_2', 102],\n",
       " ['DS_TRANS_2', 94],\n",
       " ['DS_TRANS_3', 49],\n",
       " ['DS_TRANS_3', 47]]"
      ]
     },
     "execution_count": 54,
     "metadata": {},
     "output_type": "execute_result"
    }
   ],
   "source": [
    "a = []\n",
    "for it in ['DS_TRANS_1', 'DS_TRANS_2', 'DS_TRANS_3']:\n",
    "    a.append([it, confirmados[it].unique().size])\n",
    "    clean_dados_deslocamento(it)\n",
    "    a.append([it, confirmados[it].unique().size])\n",
    "a "
   ]
  },
  {
   "cell_type": "code",
   "execution_count": 55,
   "metadata": {},
   "outputs": [
    {
     "data": {
      "text/plain": [
       "'ESTACAO TRANSPORTE_URBANO FREQUENTEMENTE BRASIL COMUNIDA_VENTANIA TERRESTRE_-_ONIBUS MOTO,CARRO_PRIPIO OCORREU_DE_IBIRACAT CARRO_PROPRIO DEZ/2011 FAZ_MUCAMBO GUARACIAMA FAZENDA_MARGARIDA ONIBUS/METRO FAZ_RETIRO_GM MOTO/_CARRO RODOVOARIO NOS_ULTIMOS_6 BELA 6_MESES ENTO_NOS_ULTIMOS FAZENDA_TAQUARAL AMBULANCIIA TOPIC IGNORADO MUDOU_DO_BAIRRO FDA_PE_DO_MORRO BELO_HORIZONTE MENTO_NOS_ULTI CAPITAO_ENEAS CARRO_DE_ALUGUEL MENTO_PARA_OUTRAS ULLTIMOS_6_MESES DE_MIRALTA/MOC FEV/2011 ONIBUS_DE_SAUDE ULTIMOS_6_MESES ULTIMOS_6 RODOVIARIA CARRO_DE_LINHA BRASAMUNDO MOS_SEIS_MESES TIMOS_6_MESES OURICURI=>POCODO MESES CABECADA,ESTIVINHA NAO_UTILIZOU_TRANSP SEM_ESTORIA_DE VIAJOU_MUITO_A_TRAB MOTO VAN FLUVIAL FAZ_ANGICO_BAT_GM FAZ:_RIBEIRAOZINHO FAZ_CANTINHO ONIBUS RIO_PARDO_DE_MINAS NOV/2011 CAMINHAO TRANS_PROPRIO FICA_MAIOR_PARTE_DO AUTOMOVEL NAO_SE_DESLOCOU VIATURA CARRO_DA_PREFEITURA MENTO_NOS_ULTIMOS_6 ZONA_URBANA CARRO_E_MOTO ZUMBI_PARA_O_CENTRO TERESTRE TRANSPORTE_TERRESTR NAO_INFORMADO PODOCO TOPIK CAMINHAO_DE_BOI NTO_NOS_ULTIMOS_6_M ULTIMOS INICIO_DE_DEZEMB/15 CARROS/AMBULANCIA MONTES_CLAROS PARA_NOVA_PORTEIRIN CARONA_(CARRO) BICICLETA VAM BARCO 26/04/2016 ODO_DE_6_MESES MOTO,CARRO_PROPRIO MOS_SEIS_MSES NTO_NOS_ULTIMOS_6 CARRO_PARTICULAR MOTOCILCETA TAXI VIAJOU_PARA_CIDADE CASA_DA_AVO NOS_ULTIMOS_SEIS PACIENTE_VIAJA_MTO NOS_ULTIMOS_6_MESES TRABALHA_NA_FAZENDA HA_02_MESES 6_MESES_SANTA_FE ILHA_DE_MUTA VAN_+_TREM CARRETA NOVA_PORTEIRINHA ROCA_DO_MEIO PUBLICO COM_AMERICANA VIAJOU_NOS IMOS_6_MESES CASA_DA_AVO_FAZENDA VEICULO FDA_SAO_GREGORIO RESIDE_NA_BAHIA TRATAMENTO_LV SALINAS NTO CAMINHADA NAO_SE_APLICA 2017_/_JURAMENTO RODOVIARIO DE_JEQUITAI LIGEIRINHO DISTRITO_NOVA_PONTE SAO_JOAO_DO_PACUI TREM FAZ_SANTA_DA_PEDRA CARO MOS_6_MESES BR_122_VILA_BANANAL ONDE_TRABALHA POV_DE_QUEIMADA CARRO_PROPIO 2017_/_GRAO_MOGOL CARRO ROD_TRIANGU_MINEIRO REMANSO_EM_TAPURAH AMBULANCIA MENTO ONIBUS/_FERRY_BOAT VALE_DAS_CANCELAS COLETIVO TERRESTRE DEZ/2015_A_FEV/2016 RESIDENCIA ONIBUS-_8_DIAS ONIBUS/FERRY PARTICULAR DESLOCOU_PARA_SITIO MAQUINE_-_JURAMENTO ) PEDESTRE FCO_SA-MG 02/2018 MENTO_NOS_ULTIMOS ULTIMOS_SEIS_MESES LOCOMOVEU_P/_ESTREI FAZENDA_ATOLEIRO PROPRIO FAZ_ESTIVINHA COM_SANTA_ROSA ZONA_RURAL CIDADES - TEMPO_NA_ZONA_RURAL ALHO,MAS_NOS_ULTIM PACIENTE_INFORMA AVIAO MOTOCICLETA FAZENDA_AMARAO GRAO_MOGOL DESLOCOU_PARA_MIRA- MARITIMO (CATUNI) ULTIMOS_SEIS FAZ_JACU VIAJOU_NOS_ULTIMOS A_TRABALHO_SITIO MRURAL/SAO_JOAQUIM BREJO_MUTAMBAL LOTACAO TRANSP_PROPRIO , ONIBUS_SAUDE ESES NOS_ULTIMOS COLETIVO_ONIBUS'"
      ]
     },
     "execution_count": 55,
     "metadata": {},
     "output_type": "execute_result"
    }
   ],
   "source": [
    "text = []\n",
    "for col in ['DS_TRANS_1', 'DS_TRANS_2', 'DS_TRANS_3']:\n",
    "    text += ['_'.join(it.split()) for it in confirmados[col][confirmados[col] != 'nan']]\n",
    "\n",
    "text = list(set(text))\n",
    "text = ' '.join(text).strip()\n",
    "text"
   ]
  },
  {
   "cell_type": "code",
   "execution_count": 56,
   "metadata": {
    "scrolled": false
   },
   "outputs": [
    {
     "data": {
      "image/png": "[encoded data removed]",
      "text/plain": [
       "<Figure size 864x1080 with 1 Axes>"
      ]
     },
     "metadata": {
      "needs_background": "light"
     },
     "output_type": "display_data"
    }
   ],
   "source": [
    "from wordcloud import WordCloud\n",
    "wordcloud = WordCloud(background_color=\"gray\", min_font_size=3, ).generate(text)\n",
    "\n",
    "fig, ax = plt.subplots(1, 1, figsize=(12,15))\n",
    "plt.imshow(wordcloud, interpolation='bilinear')\n",
    "plt.axis(\"off\")\n",
    "plt.show()"
   ]
  },
  {
   "cell_type": "markdown",
   "metadata": {},
   "source": [
    "### Preparando para exportar"
   ]
  },
  {
   "cell_type": "code",
   "execution_count": 59,
   "metadata": {},
   "outputs": [
    {
     "data": {
      "text/plain": [
       "Index(['PESO', 'IDADE'], dtype='object')"
      ]
     },
     "execution_count": 59,
     "metadata": {},
     "output_type": "execute_result"
    }
   ],
   "source": [
    "confirmados.select_dtypes('float').columns"
   ]
  },
  {
   "cell_type": "code",
   "execution_count": 58,
   "metadata": {},
   "outputs": [],
   "source": [
    "#exceto peso e idade, tudo pro tipo int\n",
    "cols = ['CS_GESTANT', 'CS_RACA', 'CS_ESCOL_N', 'CO_PAIS', 'FEBRE', 'FRAQUEZA',\n",
    "       'EDEMA', 'EMAGRECIMENTO', 'TOSSE', 'PALIDEZ', 'BACO', 'INFECCIOSO',\n",
    "       'FEN_HEMORR', 'FIGADO', 'ICTERICIA', 'OUTROS', 'HIV',\n",
    "       'DIAG_PARASITOLOGICO', 'IFI', 'OUTRO', 'ENTRADA', 'DROGA', 'DOSE', \n",
    "       'AMPOLAS', 'FALENCIA', 'CRITERIO', 'TPAUTOCTO', 'CO_UF_INF',\n",
    "       'DOENCA_TRABALHO', 'EVOLUCAO', 'DS_MUN_1', 'CO_UF_1', 'CO_PAIS_1',\n",
    "       'DS_MUN_2', 'CO_UF_2', 'CO_PAIS_2', 'DS_MUN_3', 'CO_UF_3', 'CO_PAIS_3']\n",
    "confirmados[cols] = confirmados[cols].astype(np.float).astype(\"Int32\")"
   ]
  },
  {
   "cell_type": "code",
   "execution_count": 60,
   "metadata": {},
   "outputs": [],
   "source": [
    "confirmados.to_csv('../data/interim/leivis/casos_confirmados_full_limpos.csv',index=False)"
   ]
  },
  {
   "cell_type": "markdown",
   "metadata": {},
   "source": [
    "## O Porquê de os dados do SINAN não serem tão confiáveis \n",
    "\n",
    "### integridade dos dados para cálculo de alguns indicadores."
   ]
  },
  {
   "cell_type": "code",
   "execution_count": null,
   "metadata": {},
   "outputs": [],
   "source": [
    "# seguindo a mesma linha, temos uma inconsistência:\n",
    "# quando o campo TPAUTOCTO == 2, ou seja, não é autoctone, o codigo de município de\n",
    "# infecção deveria ser diferente do de residência.\n",
    "# pq isso acontece? seria erro na inserção ou o local de residência foi atualizado?\n",
    "\n",
    "# por essa razão esses campos não serão atualizados, pois não há como saber se a alteração seria correta.\n",
    "\n",
    "display(\n",
    "    df.loc[\n",
    "        df.TPAUTOCTO == 2, \n",
    "        ['ID_MN_RESI','COMUNINF', 'SG_UF', 'COUFINF', 'ID_PAIS', 'COPAISINF', 'ENTRADA', 'TPAUTOCTO']\n",
    "    ].head()\n",
    ")"
   ]
  },
  {
   "cell_type": "code",
   "execution_count": null,
   "metadata": {},
   "outputs": [],
   "source": [
    "# NU_IDADE_N, idade no dia da notificação, não é confiável. \n",
    "# ex.: nascido em 2005-08-05 e notificado em 2018-05-09 foi declarado com idade em 0 dias (prefixo 2)\n",
    "# descartar e caso necessário saber a idade no dia da notificação calcular a diferença.\n",
    "\n",
    "display(\n",
    "    df.loc[\n",
    "        df.NU_IDADE_N.astype('string').str.startswith('2'),\n",
    "        ['DT_NASC', 'NU_IDADE_N', 'DT_NOTIFIC', 'DT_OBITO']\n",
    "    ].head()\n",
    ")"
   ]
  },
  {
   "cell_type": "code",
   "execution_count": null,
   "metadata": {},
   "outputs": [],
   "source": [
    "# menos de 1% de missing\n",
    "print(f'''DT_NASC % de nulos (confirmados): {round(df.DT_NASC.isnull().mean(), 3)}''')"
   ]
  },
  {
   "cell_type": "code",
   "execution_count": null,
   "metadata": {},
   "outputs": [],
   "source": [
    "display(df.ID_PAIS.value_counts(dropna=False).to_frame())"
   ]
  },
  {
   "cell_type": "markdown",
   "metadata": {},
   "source": [
    "País de infecção é Brasil?\n"
   ]
  },
  {
   "cell_type": "code",
   "execution_count": null,
   "metadata": {},
   "outputs": [],
   "source": [
    "df['COPAISINF'].isnull().mean(),df['COPAISINF'].isnull().mean()"
   ]
  },
  {
   "cell_type": "code",
   "execution_count": null,
   "metadata": {},
   "outputs": [],
   "source": [
    "# Para calcular indicador 14 são necessários os locais de infecção: país, uf e município\n",
    "# 'COMUNINF', 'COUFINF', 'COPAISINF'\n",
    "display(\n",
    "    df.loc[\n",
    "        (df.CLASSI_FIN == 1.0), \n",
    "        ['COMUNINF', 'COUFINF', 'COPAISINF']\n",
    "    ].isnull().mean().to_frame('Confirmados % nulos')\n",
    ")\n",
    "display(\n",
    "    df.loc[\n",
    "        (df.CLASSI_FIN == 2.0), \n",
    "        ['COMUNINF', 'COUFINF', 'COPAISINF']\n",
    "    ].isnull().mean().to_frame('Descartados % nulos')\n",
    ")"
   ]
  },
  {
   "cell_type": "code",
   "execution_count": null,
   "metadata": {},
   "outputs": [],
   "source": [
    "# primeiro problema: não há valores nulos, mas há valores fora do intervalo do dicionário. \n",
    "# O que significam?\n",
    "display(df.loc[(df.CLASSI_FIN == 1.0), 'COPAISINF'].value_counts(dropna=False).to_frame('Total Confirmados'))\n",
    "display(df.loc[(df.CLASSI_FIN == 2.0), 'COPAISINF'].value_counts(dropna=False).to_frame('Total Descartados'))"
   ]
  },
  {
   "cell_type": "markdown",
   "metadata": {},
   "source": [
    "- exporta para ser usado em cálculos"
   ]
  }
 ],
 "metadata": {
  "kernelspec": {
   "display_name": "Python 3",
   "language": "python",
   "name": "python3"
  },
  "language_info": {
   "codemirror_mode": {
    "name": "ipython",
    "version": 3
   },
   "file_extension": ".py",
   "mimetype": "text/x-python",
   "name": "python",
   "nbconvert_exporter": "python",
   "pygments_lexer": "ipython3",
   "version": "3.6.9"
  }
 },
 "nbformat": 4,
 "nbformat_minor": 4
}
