{
 "cells": [
  {
   "cell_type": "markdown",
   "metadata": {},
   "source": [
    "# .DBF to .CSV\n",
    "### Converte arquivos de estimativa populacional em .dbf para .csv"
   ]
  },
  {
   "cell_type": "code",
   "execution_count": null,
   "metadata": {},
   "outputs": [],
   "source": [
    "from dbfread import DBF\n",
    "import pandas as pd\n",
    "import os"
   ]
  },
  {
   "cell_type": "markdown",
   "metadata": {},
   "source": [
    "- Lê os arquivos no diretório de dados brutos, raw/populacao\n",
    "- Itera cada arquivo .dbf lendo-o em dataframe pandas e salvando-o em seguida em .csv no diretório interim/populacao"
   ]
  },
  {
   "cell_type": "code",
   "execution_count": null,
   "metadata": {},
   "outputs": [],
   "source": [
    "pop_input_path = '../data/raw/populacao'\n",
    "pop_output_path = '../data/interim/populacao'\n",
    "\n",
    "dbf_files = [it for it in os.listdir(pop_input_path) if '.dbf' in it.lower()]\n",
    "\n",
    "for file in dbf_files:\n",
    "    dbf = DBF(f'{pop_input_path}/{file}')\n",
    "    df_pop = pd.DataFrame(dbf)\n",
    "    df_pop.to_csv(f'{pop_output_path}/{file.split(\".\")[0]}.csv', index=False)"
   ]
  }
 ],
 "metadata": {
  "kernelspec": {
   "display_name": "Python 3",
   "language": "python",
   "name": "python3"
  },
  "language_info": {
   "codemirror_mode": {
    "name": "ipython",
    "version": 3
   },
   "file_extension": ".py",
   "mimetype": "text/x-python",
   "name": "python",
   "nbconvert_exporter": "python",
   "pygments_lexer": "ipython3",
   "version": "3.6.9"
  }
 },
 "nbformat": 4,
 "nbformat_minor": 4
}
